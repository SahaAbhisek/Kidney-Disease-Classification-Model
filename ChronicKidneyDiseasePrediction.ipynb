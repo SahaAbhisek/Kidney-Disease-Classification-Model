{
 "cells": [
  {
   "cell_type": "markdown",
   "metadata": {},
   "source": [
    "## The goal of this notebook is to predict the presence of kidney disease in the patient.\n",
    "### Author: Abhisek Saha\n",
    "#### Data: https://www.kaggle.com/mansoordaku/ckdisease\n"
   ]
  },
  {
   "cell_type": "code",
   "execution_count": 1,
   "metadata": {
    "scrolled": true
   },
   "outputs": [
    {
     "name": "stdout",
     "output_type": "stream",
     "text": [
      "ChronicKidneyDiseasePrediction.ipynb  kidney_disease.csv\r\n"
     ]
    }
   ],
   "source": [
    "!ls"
   ]
  },
  {
   "cell_type": "code",
   "execution_count": 88,
   "metadata": {},
   "outputs": [],
   "source": [
    "# Getting the dependencies\n",
    "import numpy as np\n",
    "import pandas as pd\n",
    "import matplotlib.pyplot as plt\n",
    "import seaborn as sns\n",
    "\n",
    "from keras.models import Sequential\n",
    "from keras.layers import Dense, Activation"
   ]
  },
  {
   "cell_type": "code",
   "execution_count": 3,
   "metadata": {},
   "outputs": [
    {
     "data": {
      "text/html": [
       "<div>\n",
       "<style scoped>\n",
       "    .dataframe tbody tr th:only-of-type {\n",
       "        vertical-align: middle;\n",
       "    }\n",
       "\n",
       "    .dataframe tbody tr th {\n",
       "        vertical-align: top;\n",
       "    }\n",
       "\n",
       "    .dataframe thead th {\n",
       "        text-align: right;\n",
       "    }\n",
       "</style>\n",
       "<table border=\"1\" class=\"dataframe\">\n",
       "  <thead>\n",
       "    <tr style=\"text-align: right;\">\n",
       "      <th></th>\n",
       "      <th>age</th>\n",
       "      <th>bp</th>\n",
       "      <th>sg</th>\n",
       "      <th>al</th>\n",
       "      <th>su</th>\n",
       "      <th>rbc</th>\n",
       "      <th>pc</th>\n",
       "      <th>pcc</th>\n",
       "      <th>ba</th>\n",
       "      <th>bgr</th>\n",
       "      <th>...</th>\n",
       "      <th>pcv</th>\n",
       "      <th>wc</th>\n",
       "      <th>rc</th>\n",
       "      <th>htn</th>\n",
       "      <th>dm</th>\n",
       "      <th>cad</th>\n",
       "      <th>appet</th>\n",
       "      <th>pe</th>\n",
       "      <th>ane</th>\n",
       "      <th>classification</th>\n",
       "    </tr>\n",
       "    <tr>\n",
       "      <th>id</th>\n",
       "      <th></th>\n",
       "      <th></th>\n",
       "      <th></th>\n",
       "      <th></th>\n",
       "      <th></th>\n",
       "      <th></th>\n",
       "      <th></th>\n",
       "      <th></th>\n",
       "      <th></th>\n",
       "      <th></th>\n",
       "      <th></th>\n",
       "      <th></th>\n",
       "      <th></th>\n",
       "      <th></th>\n",
       "      <th></th>\n",
       "      <th></th>\n",
       "      <th></th>\n",
       "      <th></th>\n",
       "      <th></th>\n",
       "      <th></th>\n",
       "      <th></th>\n",
       "    </tr>\n",
       "  </thead>\n",
       "  <tbody>\n",
       "    <tr>\n",
       "      <th>0</th>\n",
       "      <td>48.0</td>\n",
       "      <td>80.0</td>\n",
       "      <td>1.020</td>\n",
       "      <td>1.0</td>\n",
       "      <td>0.0</td>\n",
       "      <td>NaN</td>\n",
       "      <td>normal</td>\n",
       "      <td>notpresent</td>\n",
       "      <td>notpresent</td>\n",
       "      <td>121.0</td>\n",
       "      <td>...</td>\n",
       "      <td>44</td>\n",
       "      <td>7800</td>\n",
       "      <td>5.2</td>\n",
       "      <td>yes</td>\n",
       "      <td>yes</td>\n",
       "      <td>no</td>\n",
       "      <td>good</td>\n",
       "      <td>no</td>\n",
       "      <td>no</td>\n",
       "      <td>ckd</td>\n",
       "    </tr>\n",
       "    <tr>\n",
       "      <th>1</th>\n",
       "      <td>7.0</td>\n",
       "      <td>50.0</td>\n",
       "      <td>1.020</td>\n",
       "      <td>4.0</td>\n",
       "      <td>0.0</td>\n",
       "      <td>NaN</td>\n",
       "      <td>normal</td>\n",
       "      <td>notpresent</td>\n",
       "      <td>notpresent</td>\n",
       "      <td>NaN</td>\n",
       "      <td>...</td>\n",
       "      <td>38</td>\n",
       "      <td>6000</td>\n",
       "      <td>NaN</td>\n",
       "      <td>no</td>\n",
       "      <td>no</td>\n",
       "      <td>no</td>\n",
       "      <td>good</td>\n",
       "      <td>no</td>\n",
       "      <td>no</td>\n",
       "      <td>ckd</td>\n",
       "    </tr>\n",
       "    <tr>\n",
       "      <th>2</th>\n",
       "      <td>62.0</td>\n",
       "      <td>80.0</td>\n",
       "      <td>1.010</td>\n",
       "      <td>2.0</td>\n",
       "      <td>3.0</td>\n",
       "      <td>normal</td>\n",
       "      <td>normal</td>\n",
       "      <td>notpresent</td>\n",
       "      <td>notpresent</td>\n",
       "      <td>423.0</td>\n",
       "      <td>...</td>\n",
       "      <td>31</td>\n",
       "      <td>7500</td>\n",
       "      <td>NaN</td>\n",
       "      <td>no</td>\n",
       "      <td>yes</td>\n",
       "      <td>no</td>\n",
       "      <td>poor</td>\n",
       "      <td>no</td>\n",
       "      <td>yes</td>\n",
       "      <td>ckd</td>\n",
       "    </tr>\n",
       "    <tr>\n",
       "      <th>3</th>\n",
       "      <td>48.0</td>\n",
       "      <td>70.0</td>\n",
       "      <td>1.005</td>\n",
       "      <td>4.0</td>\n",
       "      <td>0.0</td>\n",
       "      <td>normal</td>\n",
       "      <td>abnormal</td>\n",
       "      <td>present</td>\n",
       "      <td>notpresent</td>\n",
       "      <td>117.0</td>\n",
       "      <td>...</td>\n",
       "      <td>32</td>\n",
       "      <td>6700</td>\n",
       "      <td>3.9</td>\n",
       "      <td>yes</td>\n",
       "      <td>no</td>\n",
       "      <td>no</td>\n",
       "      <td>poor</td>\n",
       "      <td>yes</td>\n",
       "      <td>yes</td>\n",
       "      <td>ckd</td>\n",
       "    </tr>\n",
       "    <tr>\n",
       "      <th>4</th>\n",
       "      <td>51.0</td>\n",
       "      <td>80.0</td>\n",
       "      <td>1.010</td>\n",
       "      <td>2.0</td>\n",
       "      <td>0.0</td>\n",
       "      <td>normal</td>\n",
       "      <td>normal</td>\n",
       "      <td>notpresent</td>\n",
       "      <td>notpresent</td>\n",
       "      <td>106.0</td>\n",
       "      <td>...</td>\n",
       "      <td>35</td>\n",
       "      <td>7300</td>\n",
       "      <td>4.6</td>\n",
       "      <td>no</td>\n",
       "      <td>no</td>\n",
       "      <td>no</td>\n",
       "      <td>good</td>\n",
       "      <td>no</td>\n",
       "      <td>no</td>\n",
       "      <td>ckd</td>\n",
       "    </tr>\n",
       "  </tbody>\n",
       "</table>\n",
       "<p>5 rows × 25 columns</p>\n",
       "</div>"
      ],
      "text/plain": [
       "     age    bp     sg   al   su     rbc        pc         pcc          ba  \\\n",
       "id                                                                          \n",
       "0   48.0  80.0  1.020  1.0  0.0     NaN    normal  notpresent  notpresent   \n",
       "1    7.0  50.0  1.020  4.0  0.0     NaN    normal  notpresent  notpresent   \n",
       "2   62.0  80.0  1.010  2.0  3.0  normal    normal  notpresent  notpresent   \n",
       "3   48.0  70.0  1.005  4.0  0.0  normal  abnormal     present  notpresent   \n",
       "4   51.0  80.0  1.010  2.0  0.0  normal    normal  notpresent  notpresent   \n",
       "\n",
       "      bgr  ...  pcv    wc   rc  htn   dm cad appet   pe  ane classification  \n",
       "id         ...                                                               \n",
       "0   121.0  ...   44  7800  5.2  yes  yes  no  good   no   no            ckd  \n",
       "1     NaN  ...   38  6000  NaN   no   no  no  good   no   no            ckd  \n",
       "2   423.0  ...   31  7500  NaN   no  yes  no  poor   no  yes            ckd  \n",
       "3   117.0  ...   32  6700  3.9  yes   no  no  poor  yes  yes            ckd  \n",
       "4   106.0  ...   35  7300  4.6   no   no  no  good   no   no            ckd  \n",
       "\n",
       "[5 rows x 25 columns]"
      ]
     },
     "execution_count": 3,
     "metadata": {},
     "output_type": "execute_result"
    }
   ],
   "source": [
    "df = pd.read_csv('kidney_disease.csv', index_col=0)\n",
    "df.head()"
   ]
  },
  {
   "cell_type": "code",
   "execution_count": 4,
   "metadata": {
    "scrolled": true
   },
   "outputs": [
    {
     "data": {
      "text/plain": [
       "(400, 25)"
      ]
     },
     "execution_count": 4,
     "metadata": {},
     "output_type": "execute_result"
    }
   ],
   "source": [
    "# the shape of the data\n",
    "df.shape"
   ]
  },
  {
   "cell_type": "markdown",
   "metadata": {},
   "source": [
    "# EDA"
   ]
  },
  {
   "cell_type": "code",
   "execution_count": 5,
   "metadata": {},
   "outputs": [
    {
     "name": "stdout",
     "output_type": "stream",
     "text": [
      "<class 'pandas.core.frame.DataFrame'>\n",
      "Int64Index: 400 entries, 0 to 399\n",
      "Data columns (total 25 columns):\n",
      " #   Column          Non-Null Count  Dtype  \n",
      "---  ------          --------------  -----  \n",
      " 0   age             391 non-null    float64\n",
      " 1   bp              388 non-null    float64\n",
      " 2   sg              353 non-null    float64\n",
      " 3   al              354 non-null    float64\n",
      " 4   su              351 non-null    float64\n",
      " 5   rbc             248 non-null    object \n",
      " 6   pc              335 non-null    object \n",
      " 7   pcc             396 non-null    object \n",
      " 8   ba              396 non-null    object \n",
      " 9   bgr             356 non-null    float64\n",
      " 10  bu              381 non-null    float64\n",
      " 11  sc              383 non-null    float64\n",
      " 12  sod             313 non-null    float64\n",
      " 13  pot             312 non-null    float64\n",
      " 14  hemo            348 non-null    float64\n",
      " 15  pcv             330 non-null    object \n",
      " 16  wc              295 non-null    object \n",
      " 17  rc              270 non-null    object \n",
      " 18  htn             398 non-null    object \n",
      " 19  dm              398 non-null    object \n",
      " 20  cad             398 non-null    object \n",
      " 21  appet           399 non-null    object \n",
      " 22  pe              399 non-null    object \n",
      " 23  ane             399 non-null    object \n",
      " 24  classification  400 non-null    object \n",
      "dtypes: float64(11), object(14)\n",
      "memory usage: 81.2+ KB\n"
     ]
    }
   ],
   "source": [
    "# Getting information about the data\n",
    "df.info()"
   ]
  },
  {
   "cell_type": "code",
   "execution_count": 6,
   "metadata": {
    "scrolled": false
   },
   "outputs": [
    {
     "data": {
      "text/plain": [
       "ckd       248\n",
       "notckd    150\n",
       "ckd\\t       2\n",
       "Name: classification, dtype: int64"
      ]
     },
     "execution_count": 6,
     "metadata": {},
     "output_type": "execute_result"
    }
   ],
   "source": [
    "# Target variable value counts\n",
    "df['classification'].value_counts()"
   ]
  },
  {
   "cell_type": "code",
   "execution_count": 7,
   "metadata": {},
   "outputs": [],
   "source": [
    "# Replacing ckd and notckd by 1 and 0\n",
    "df['classification'] = df['classification'].replace('ckd',1)\n",
    "df['classification'] = df['classification'].replace('ckd\\t',1)\n",
    "df['classification'] = df['classification'].replace('notckd',0)"
   ]
  },
  {
   "cell_type": "markdown",
   "metadata": {},
   "source": [
    "### 1-> ckd\n",
    "### 0-> notckd"
   ]
  },
  {
   "cell_type": "code",
   "execution_count": 8,
   "metadata": {
    "scrolled": false
   },
   "outputs": [
    {
     "data": {
      "text/plain": [
       "1    250\n",
       "0    150\n",
       "Name: classification, dtype: int64"
      ]
     },
     "execution_count": 8,
     "metadata": {},
     "output_type": "execute_result"
    }
   ],
   "source": [
    "df['classification'].value_counts()"
   ]
  },
  {
   "cell_type": "code",
   "execution_count": 9,
   "metadata": {},
   "outputs": [],
   "source": [
    "# Getting the correlation matrix\n",
    "corr_mat = df.corr()"
   ]
  },
  {
   "cell_type": "code",
   "execution_count": 10,
   "metadata": {},
   "outputs": [
    {
     "data": {
      "text/plain": [
       "classification    1.000000\n",
       "al                0.627090\n",
       "bgr               0.419672\n",
       "bu                0.380605\n",
       "su                0.344070\n",
       "sc                0.299969\n",
       "bp                0.294077\n",
       "age               0.227268\n",
       "pot               0.084541\n",
       "sod              -0.375674\n",
       "sg               -0.732163\n",
       "hemo             -0.768919\n",
       "Name: classification, dtype: float64"
      ]
     },
     "execution_count": 10,
     "metadata": {},
     "output_type": "execute_result"
    }
   ],
   "source": [
    "corr_mat['classification'].sort_values(ascending=False)"
   ]
  },
  {
   "cell_type": "markdown",
   "metadata": {},
   "source": [
    "### As the correlations are higher, we can not simply remove the features which have many missing values"
   ]
  },
  {
   "cell_type": "code",
   "execution_count": 11,
   "metadata": {},
   "outputs": [
    {
     "data": {
      "text/plain": [
       "age                 9\n",
       "bp                 12\n",
       "sg                 47\n",
       "al                 46\n",
       "su                 49\n",
       "rbc               152\n",
       "pc                 65\n",
       "pcc                 4\n",
       "ba                  4\n",
       "bgr                44\n",
       "bu                 19\n",
       "sc                 17\n",
       "sod                87\n",
       "pot                88\n",
       "hemo               52\n",
       "pcv                70\n",
       "wc                105\n",
       "rc                130\n",
       "htn                 2\n",
       "dm                  2\n",
       "cad                 2\n",
       "appet               1\n",
       "pe                  1\n",
       "ane                 1\n",
       "classification      0\n",
       "dtype: int64"
      ]
     },
     "execution_count": 11,
     "metadata": {},
     "output_type": "execute_result"
    }
   ],
   "source": [
    "# Checking null values\n",
    "df.isnull().sum()"
   ]
  },
  {
   "cell_type": "markdown",
   "metadata": {},
   "source": [
    "# Dealing with Null values"
   ]
  },
  {
   "cell_type": "code",
   "execution_count": 12,
   "metadata": {},
   "outputs": [],
   "source": [
    "# Drpping columns due to high number of missing values(>80)\n",
    "df.drop(['rbc', 'wc', 'rc', 'pot', 'sod'], axis=1, inplace=True)"
   ]
  },
  {
   "cell_type": "code",
   "execution_count": 13,
   "metadata": {},
   "outputs": [
    {
     "data": {
      "text/plain": [
       "(0.0    290\n",
       " 2.0     18\n",
       " 3.0     14\n",
       " 1.0     13\n",
       " 4.0     13\n",
       " 5.0      3\n",
       " Name: su, dtype: int64, array([ 0.,  3.,  4.,  1., nan,  2.,  5.]))"
      ]
     },
     "execution_count": 13,
     "metadata": {},
     "output_type": "execute_result"
    }
   ],
   "source": [
    "df['su'].value_counts(), df['su'].unique()"
   ]
  },
  {
   "cell_type": "code",
   "execution_count": 14,
   "metadata": {},
   "outputs": [
    {
     "data": {
      "text/html": [
       "<div>\n",
       "<style scoped>\n",
       "    .dataframe tbody tr th:only-of-type {\n",
       "        vertical-align: middle;\n",
       "    }\n",
       "\n",
       "    .dataframe tbody tr th {\n",
       "        vertical-align: top;\n",
       "    }\n",
       "\n",
       "    .dataframe thead th {\n",
       "        text-align: right;\n",
       "    }\n",
       "</style>\n",
       "<table border=\"1\" class=\"dataframe\">\n",
       "  <thead>\n",
       "    <tr style=\"text-align: right;\">\n",
       "      <th></th>\n",
       "      <th>age</th>\n",
       "      <th>bp</th>\n",
       "      <th>sg</th>\n",
       "      <th>al</th>\n",
       "      <th>su</th>\n",
       "      <th>bgr</th>\n",
       "      <th>bu</th>\n",
       "      <th>sc</th>\n",
       "      <th>hemo</th>\n",
       "      <th>classification</th>\n",
       "    </tr>\n",
       "  </thead>\n",
       "  <tbody>\n",
       "    <tr>\n",
       "      <th>count</th>\n",
       "      <td>391.000000</td>\n",
       "      <td>388.000000</td>\n",
       "      <td>353.000000</td>\n",
       "      <td>354.000000</td>\n",
       "      <td>351.000000</td>\n",
       "      <td>356.000000</td>\n",
       "      <td>381.000000</td>\n",
       "      <td>383.000000</td>\n",
       "      <td>348.000000</td>\n",
       "      <td>400.000000</td>\n",
       "    </tr>\n",
       "    <tr>\n",
       "      <th>mean</th>\n",
       "      <td>51.483376</td>\n",
       "      <td>76.469072</td>\n",
       "      <td>1.017408</td>\n",
       "      <td>1.016949</td>\n",
       "      <td>0.450142</td>\n",
       "      <td>148.036517</td>\n",
       "      <td>57.425722</td>\n",
       "      <td>3.072454</td>\n",
       "      <td>12.526437</td>\n",
       "      <td>0.625000</td>\n",
       "    </tr>\n",
       "    <tr>\n",
       "      <th>std</th>\n",
       "      <td>17.169714</td>\n",
       "      <td>13.683637</td>\n",
       "      <td>0.005717</td>\n",
       "      <td>1.352679</td>\n",
       "      <td>1.099191</td>\n",
       "      <td>79.281714</td>\n",
       "      <td>50.503006</td>\n",
       "      <td>5.741126</td>\n",
       "      <td>2.912587</td>\n",
       "      <td>0.484729</td>\n",
       "    </tr>\n",
       "    <tr>\n",
       "      <th>min</th>\n",
       "      <td>2.000000</td>\n",
       "      <td>50.000000</td>\n",
       "      <td>1.005000</td>\n",
       "      <td>0.000000</td>\n",
       "      <td>0.000000</td>\n",
       "      <td>22.000000</td>\n",
       "      <td>1.500000</td>\n",
       "      <td>0.400000</td>\n",
       "      <td>3.100000</td>\n",
       "      <td>0.000000</td>\n",
       "    </tr>\n",
       "    <tr>\n",
       "      <th>25%</th>\n",
       "      <td>42.000000</td>\n",
       "      <td>70.000000</td>\n",
       "      <td>1.010000</td>\n",
       "      <td>0.000000</td>\n",
       "      <td>0.000000</td>\n",
       "      <td>99.000000</td>\n",
       "      <td>27.000000</td>\n",
       "      <td>0.900000</td>\n",
       "      <td>10.300000</td>\n",
       "      <td>0.000000</td>\n",
       "    </tr>\n",
       "    <tr>\n",
       "      <th>50%</th>\n",
       "      <td>55.000000</td>\n",
       "      <td>80.000000</td>\n",
       "      <td>1.020000</td>\n",
       "      <td>0.000000</td>\n",
       "      <td>0.000000</td>\n",
       "      <td>121.000000</td>\n",
       "      <td>42.000000</td>\n",
       "      <td>1.300000</td>\n",
       "      <td>12.650000</td>\n",
       "      <td>1.000000</td>\n",
       "    </tr>\n",
       "    <tr>\n",
       "      <th>75%</th>\n",
       "      <td>64.500000</td>\n",
       "      <td>80.000000</td>\n",
       "      <td>1.020000</td>\n",
       "      <td>2.000000</td>\n",
       "      <td>0.000000</td>\n",
       "      <td>163.000000</td>\n",
       "      <td>66.000000</td>\n",
       "      <td>2.800000</td>\n",
       "      <td>15.000000</td>\n",
       "      <td>1.000000</td>\n",
       "    </tr>\n",
       "    <tr>\n",
       "      <th>max</th>\n",
       "      <td>90.000000</td>\n",
       "      <td>180.000000</td>\n",
       "      <td>1.025000</td>\n",
       "      <td>5.000000</td>\n",
       "      <td>5.000000</td>\n",
       "      <td>490.000000</td>\n",
       "      <td>391.000000</td>\n",
       "      <td>76.000000</td>\n",
       "      <td>17.800000</td>\n",
       "      <td>1.000000</td>\n",
       "    </tr>\n",
       "  </tbody>\n",
       "</table>\n",
       "</div>"
      ],
      "text/plain": [
       "              age          bp          sg          al          su         bgr  \\\n",
       "count  391.000000  388.000000  353.000000  354.000000  351.000000  356.000000   \n",
       "mean    51.483376   76.469072    1.017408    1.016949    0.450142  148.036517   \n",
       "std     17.169714   13.683637    0.005717    1.352679    1.099191   79.281714   \n",
       "min      2.000000   50.000000    1.005000    0.000000    0.000000   22.000000   \n",
       "25%     42.000000   70.000000    1.010000    0.000000    0.000000   99.000000   \n",
       "50%     55.000000   80.000000    1.020000    0.000000    0.000000  121.000000   \n",
       "75%     64.500000   80.000000    1.020000    2.000000    0.000000  163.000000   \n",
       "max     90.000000  180.000000    1.025000    5.000000    5.000000  490.000000   \n",
       "\n",
       "               bu          sc        hemo  classification  \n",
       "count  381.000000  383.000000  348.000000      400.000000  \n",
       "mean    57.425722    3.072454   12.526437        0.625000  \n",
       "std     50.503006    5.741126    2.912587        0.484729  \n",
       "min      1.500000    0.400000    3.100000        0.000000  \n",
       "25%     27.000000    0.900000   10.300000        0.000000  \n",
       "50%     42.000000    1.300000   12.650000        1.000000  \n",
       "75%     66.000000    2.800000   15.000000        1.000000  \n",
       "max    391.000000   76.000000   17.800000        1.000000  "
      ]
     },
     "execution_count": 14,
     "metadata": {},
     "output_type": "execute_result"
    }
   ],
   "source": [
    "df.describe()"
   ]
  },
  {
   "cell_type": "code",
   "execution_count": 15,
   "metadata": {},
   "outputs": [],
   "source": [
    "# Replacing missing values in numeric data types by the mean\n",
    "def numeric_replace(feat):\n",
    "    return feat.fillna(feat.mean(), inplace=True)"
   ]
  },
  {
   "cell_type": "code",
   "execution_count": 16,
   "metadata": {},
   "outputs": [],
   "source": [
    "numeric_replace(df['age'])\n",
    "numeric_replace(df['bp'])\n",
    "numeric_replace(df['age'])\n",
    "numeric_replace(df['bgr'])\n",
    "numeric_replace(df['bu'])\n",
    "numeric_replace(df['sc'])\n",
    "numeric_replace(df['hemo'])"
   ]
  },
  {
   "cell_type": "code",
   "execution_count": 17,
   "metadata": {},
   "outputs": [],
   "source": [
    "# replacing missing values of object data types by the mode value\n",
    "def object_replace(feat):\n",
    "    return feat.fillna(feat.value_counts().index[0], inplace=True)"
   ]
  },
  {
   "cell_type": "code",
   "execution_count": 18,
   "metadata": {},
   "outputs": [],
   "source": [
    "object_replace(df['ane'])\n",
    "object_replace(df['pe'])\n",
    "object_replace(df['appet'])\n",
    "object_replace(df['cad'])\n",
    "object_replace(df['dm'])\n",
    "object_replace(df['htn'])\n",
    "object_replace(df['pcc'])\n",
    "object_replace(df['ba'])\n",
    "object_replace(df['pc'])"
   ]
  },
  {
   "cell_type": "code",
   "execution_count": 19,
   "metadata": {},
   "outputs": [],
   "source": [
    "object_replace(df['sg'])\n",
    "object_replace(df['al'])\n",
    "object_replace(df['su'])"
   ]
  },
  {
   "cell_type": "code",
   "execution_count": 20,
   "metadata": {},
   "outputs": [
    {
     "data": {
      "text/plain": [
       "no       260\n",
       "yes      134\n",
       "\\tno       3\n",
       "\\tyes      2\n",
       " yes       1\n",
       "Name: dm, dtype: int64"
      ]
     },
     "execution_count": 20,
     "metadata": {},
     "output_type": "execute_result"
    }
   ],
   "source": [
    "df['dm'].value_counts()"
   ]
  },
  {
   "cell_type": "code",
   "execution_count": 21,
   "metadata": {
    "scrolled": true
   },
   "outputs": [
    {
     "data": {
      "text/plain": [
       "array(['yes', 'no', ' yes', '\\tno', '\\tyes'], dtype=object)"
      ]
     },
     "execution_count": 21,
     "metadata": {},
     "output_type": "execute_result"
    }
   ],
   "source": [
    "df['dm'].unique()"
   ]
  },
  {
   "cell_type": "markdown",
   "metadata": {},
   "source": [
    "#### As dm has ' yes', '\\tno', '\\tyes', we can replace them by yes or no"
   ]
  },
  {
   "cell_type": "code",
   "execution_count": 22,
   "metadata": {},
   "outputs": [],
   "source": [
    "# replacing others values of dm by yes or no\n",
    "df['dm'] = df['dm'].replace('\\tno','no')\n",
    "df['dm'] = df['dm'].replace('\\tyes','yes')\n",
    "df['dm'] = df['dm'].replace(' yes','yes')"
   ]
  },
  {
   "cell_type": "code",
   "execution_count": 23,
   "metadata": {
    "scrolled": true
   },
   "outputs": [
    {
     "data": {
      "text/plain": [
       "array(['44', '38', '31', '32', '35', '39', '36', '33', '29', '28', nan,\n",
       "       '16', '24', '37', '30', '34', '40', '45', '27', '48', '\\t?', '52',\n",
       "       '14', '22', '18', '42', '17', '46', '23', '19', '25', '41', '26',\n",
       "       '15', '21', '43', '20', '\\t43', '47', '9', '49', '50', '53', '51',\n",
       "       '54'], dtype=object)"
      ]
     },
     "execution_count": 23,
     "metadata": {},
     "output_type": "execute_result"
    }
   ],
   "source": [
    "# checking unique values in pcv\n",
    "df['pcv'].unique()"
   ]
  },
  {
   "cell_type": "code",
   "execution_count": 24,
   "metadata": {},
   "outputs": [
    {
     "data": {
      "text/plain": [
       "41      21\n",
       "52      21\n",
       "48      19\n",
       "44      19\n",
       "40      16\n",
       "43      14\n",
       "45      13\n",
       "42      13\n",
       "36      12\n",
       "32      12\n",
       "28      12\n",
       "50      12\n",
       "33      12\n",
       "34      11\n",
       "37      11\n",
       "29       9\n",
       "30       9\n",
       "35       9\n",
       "46       9\n",
       "31       8\n",
       "39       7\n",
       "24       7\n",
       "26       6\n",
       "38       5\n",
       "49       4\n",
       "47       4\n",
       "54       4\n",
       "53       4\n",
       "51       4\n",
       "27       3\n",
       "22       3\n",
       "25       3\n",
       "19       2\n",
       "23       2\n",
       "17       1\n",
       "\\t?      1\n",
       "21       1\n",
       "15       1\n",
       "14       1\n",
       "9        1\n",
       "\\t43     1\n",
       "16       1\n",
       "20       1\n",
       "18       1\n",
       "Name: pcv, dtype: int64"
      ]
     },
     "execution_count": 24,
     "metadata": {},
     "output_type": "execute_result"
    }
   ],
   "source": [
    "df['pcv'].value_counts()"
   ]
  },
  {
   "cell_type": "code",
   "execution_count": 25,
   "metadata": {},
   "outputs": [],
   "source": [
    "# Replacing nan and other values in pcv\n",
    "df['pcv'] = df['pcv'].replace('\\t43',43)\n",
    "df['pcv'] = df['pcv'].replace('\\t?',df['pcv'].value_counts().index[0])\n",
    "df['pcv'].fillna(df['pcv'].value_counts().index[0], inplace=True)\n",
    "df['pcv'] = df['pcv'].astype(int)"
   ]
  },
  {
   "cell_type": "code",
   "execution_count": 26,
   "metadata": {},
   "outputs": [
    {
     "data": {
      "text/plain": [
       "no      364\n",
       "yes      34\n",
       "\\tno      2\n",
       "Name: cad, dtype: int64"
      ]
     },
     "execution_count": 26,
     "metadata": {},
     "output_type": "execute_result"
    }
   ],
   "source": [
    "df['cad'].value_counts()"
   ]
  },
  {
   "cell_type": "code",
   "execution_count": 27,
   "metadata": {},
   "outputs": [],
   "source": [
    "df['cad'] = df['cad'].replace('\\tno','no')"
   ]
  },
  {
   "cell_type": "code",
   "execution_count": 28,
   "metadata": {},
   "outputs": [
    {
     "data": {
      "text/plain": [
       "age               0\n",
       "bp                0\n",
       "sg                0\n",
       "al                0\n",
       "su                0\n",
       "pc                0\n",
       "pcc               0\n",
       "ba                0\n",
       "bgr               0\n",
       "bu                0\n",
       "sc                0\n",
       "hemo              0\n",
       "pcv               0\n",
       "htn               0\n",
       "dm                0\n",
       "cad               0\n",
       "appet             0\n",
       "pe                0\n",
       "ane               0\n",
       "classification    0\n",
       "dtype: int64"
      ]
     },
     "execution_count": 28,
     "metadata": {},
     "output_type": "execute_result"
    }
   ],
   "source": [
    "df.isnull().sum()"
   ]
  },
  {
   "cell_type": "markdown",
   "metadata": {},
   "source": [
    "# Encoding categorical variables"
   ]
  },
  {
   "cell_type": "code",
   "execution_count": 29,
   "metadata": {},
   "outputs": [
    {
     "name": "stderr",
     "output_type": "stream",
     "text": [
      "/home/abhisek/snap/jupyter/common/lib/python3.7/site-packages/joblib/_multiprocessing_helpers.py:45: UserWarning: [Errno 13] Permission denied.  joblib will operate in serial mode\n",
      "  warnings.warn('%s.  joblib will operate in serial mode' % (e,))\n"
     ]
    }
   ],
   "source": [
    "from sklearn.preprocessing import LabelEncoder\n",
    "le = LabelEncoder()"
   ]
  },
  {
   "cell_type": "code",
   "execution_count": 30,
   "metadata": {},
   "outputs": [
    {
     "data": {
      "text/plain": [
       "normal      324\n",
       "abnormal     76\n",
       "Name: pc, dtype: int64"
      ]
     },
     "execution_count": 30,
     "metadata": {},
     "output_type": "execute_result"
    }
   ],
   "source": [
    "df['pc'].value_counts()"
   ]
  },
  {
   "cell_type": "code",
   "execution_count": 31,
   "metadata": {},
   "outputs": [],
   "source": [
    "df['pc'] = le.fit_transform(df['pc'])"
   ]
  },
  {
   "cell_type": "code",
   "execution_count": 32,
   "metadata": {},
   "outputs": [
    {
     "data": {
      "text/plain": [
       "1    324\n",
       "0     76\n",
       "Name: pc, dtype: int64"
      ]
     },
     "execution_count": 32,
     "metadata": {},
     "output_type": "execute_result"
    }
   ],
   "source": [
    "df['pc'].value_counts()"
   ]
  },
  {
   "cell_type": "code",
   "execution_count": 33,
   "metadata": {},
   "outputs": [],
   "source": [
    "cat_cols = ['ane', 'pe', 'appet', 'cad', 'dm', 'htn', 'ba', 'pcc', 'pc']"
   ]
  },
  {
   "cell_type": "code",
   "execution_count": 34,
   "metadata": {},
   "outputs": [],
   "source": [
    "for cols in cat_cols:\n",
    "    df[cols] = le.fit_transform(df[cols])"
   ]
  },
  {
   "cell_type": "code",
   "execution_count": 35,
   "metadata": {},
   "outputs": [
    {
     "name": "stdout",
     "output_type": "stream",
     "text": [
      "<class 'pandas.core.frame.DataFrame'>\n",
      "Int64Index: 400 entries, 0 to 399\n",
      "Data columns (total 20 columns):\n",
      " #   Column          Non-Null Count  Dtype  \n",
      "---  ------          --------------  -----  \n",
      " 0   age             400 non-null    float64\n",
      " 1   bp              400 non-null    float64\n",
      " 2   sg              400 non-null    float64\n",
      " 3   al              400 non-null    float64\n",
      " 4   su              400 non-null    float64\n",
      " 5   pc              400 non-null    int64  \n",
      " 6   pcc             400 non-null    int64  \n",
      " 7   ba              400 non-null    int64  \n",
      " 8   bgr             400 non-null    float64\n",
      " 9   bu              400 non-null    float64\n",
      " 10  sc              400 non-null    float64\n",
      " 11  hemo            400 non-null    float64\n",
      " 12  pcv             400 non-null    int64  \n",
      " 13  htn             400 non-null    int64  \n",
      " 14  dm              400 non-null    int64  \n",
      " 15  cad             400 non-null    int64  \n",
      " 16  appet           400 non-null    int64  \n",
      " 17  pe              400 non-null    int64  \n",
      " 18  ane             400 non-null    int64  \n",
      " 19  classification  400 non-null    int64  \n",
      "dtypes: float64(9), int64(11)\n",
      "memory usage: 65.6 KB\n"
     ]
    }
   ],
   "source": [
    "df.info()"
   ]
  },
  {
   "cell_type": "code",
   "execution_count": 36,
   "metadata": {},
   "outputs": [],
   "source": [
    "# Again Checking correlation\n",
    "corr_mat_all = df.corr()"
   ]
  },
  {
   "cell_type": "code",
   "execution_count": 37,
   "metadata": {},
   "outputs": [
    {
     "data": {
      "text/plain": [
       "classification    1.000000\n",
       "htn               0.590438\n",
       "dm                0.559060\n",
       "al                0.531562\n",
       "bgr               0.401374\n",
       "appet             0.393341\n",
       "pe                0.375154\n",
       "bu                0.372033\n",
       "ane               0.325396\n",
       "su                0.294555\n",
       "sc                0.294079\n",
       "bp                0.290600\n",
       "pcc               0.265313\n",
       "cad               0.236088\n",
       "age               0.225405\n",
       "ba                0.186871\n",
       "pc               -0.375154\n",
       "pcv              -0.656471\n",
       "sg               -0.659504\n",
       "hemo             -0.729628\n",
       "Name: classification, dtype: float64"
      ]
     },
     "execution_count": 37,
     "metadata": {},
     "output_type": "execute_result"
    }
   ],
   "source": [
    "corr_mat_all['classification'].sort_values(ascending=False)"
   ]
  },
  {
   "cell_type": "code",
   "execution_count": 41,
   "metadata": {},
   "outputs": [
    {
     "data": {
      "image/png": "[encoded data removed]",
      "text/plain": [
       "<Figure size 1296x1296 with 2 Axes>"
      ]
     },
     "metadata": {
      "needs_background": "light"
     },
     "output_type": "display_data"
    }
   ],
   "source": [
    "plt.figure(figsize=(18,18))\n",
    "sns.heatmap(corr_mat_all, annot=True, cmap='coolwarm')\n",
    "plt.show()"
   ]
  },
  {
   "cell_type": "code",
   "execution_count": 42,
   "metadata": {},
   "outputs": [],
   "source": [
    "from sklearn.model_selection import train_test_split\n",
    "from sklearn.metrics import accuracy_score\n",
    "\n",
    "from sklearn.linear_model import LogisticRegression\n",
    "from sklearn.neighbors import KNeighborsClassifier\n",
    "from sklearn.tree import DecisionTreeClassifier\n",
    "from sklearn.ensemble import RandomForestClassifier, ExtraTreesClassifier, GradientBoostingClassifier\n",
    "from sklearn.metrics import accuracy_score"
   ]
  },
  {
   "cell_type": "code",
   "execution_count": 53,
   "metadata": {},
   "outputs": [],
   "source": [
    "X = df.drop('classification', axis=1)\n",
    "y = df['classification']"
   ]
  },
  {
   "cell_type": "code",
   "execution_count": 59,
   "metadata": {},
   "outputs": [],
   "source": [
    "X_train, X_test, y_train, y_test = train_test_split(X, y, test_size=0.2, stratify=y, random_state=2)"
   ]
  },
  {
   "cell_type": "code",
   "execution_count": 60,
   "metadata": {},
   "outputs": [
    {
     "name": "stdout",
     "output_type": "stream",
     "text": [
      "The shape of X_train= (320, 19)\n",
      "The shape of X_test = (80, 19)\n",
      "The shape of y_train= (320,)\n",
      "The shape of y_test = (80,)\n"
     ]
    }
   ],
   "source": [
    "print(\"The shape of X_train=\", X_train.shape)\n",
    "print(\"The shape of X_test =\", X_test.shape)\n",
    "print(\"The shape of y_train=\", y_train.shape)\n",
    "print(\"The shape of y_test =\", y_test.shape)"
   ]
  },
  {
   "cell_type": "code",
   "execution_count": 61,
   "metadata": {},
   "outputs": [],
   "source": [
    "# Normilize the data\n",
    "from sklearn.preprocessing import StandardScaler\n",
    "sc = StandardScaler()\n",
    "X_train = sc.fit_transform(X_train)\n",
    "X_test = sc.transform(X_test)"
   ]
  },
  {
   "cell_type": "code",
   "execution_count": 62,
   "metadata": {},
   "outputs": [],
   "source": [
    "models = []\n",
    "Scores = {}\n",
    "Names = []\n",
    "\n",
    "models.append( ( 'LR', LogisticRegression() ))\n",
    "models.append( ( 'KNN', KNeighborsClassifier() ))\n",
    "models.append( ( 'DT', DecisionTreeClassifier() ))\n",
    "models.append( ( 'RF', RandomForestClassifier() ))\n",
    "models.append( ( 'ETR', ExtraTreesClassifier() ))\n",
    "models.append( ( 'GBR', GradientBoostingClassifier() ))\n",
    "\n",
    "for name, model in models:\n",
    "    Names.append(name)\n",
    "    model.fit(X_train, y_train)\n",
    "    pred = model.predict(X_test)\n",
    "    Scores[name] = accuracy_score(y_test, pred)\n",
    "\n"
   ]
  },
  {
   "cell_type": "code",
   "execution_count": 63,
   "metadata": {},
   "outputs": [
    {
     "data": {
      "text/plain": [
       "{'LR': 0.9875,\n",
       " 'KNN': 0.9625,\n",
       " 'DT': 0.9875,\n",
       " 'RF': 0.9875,\n",
       " 'ETR': 1.0,\n",
       " 'GBR': 0.9875}"
      ]
     },
     "execution_count": 63,
     "metadata": {},
     "output_type": "execute_result"
    }
   ],
   "source": [
    "Scores"
   ]
  },
  {
   "cell_type": "code",
   "execution_count": 52,
   "metadata": {},
   "outputs": [
    {
     "data": {
      "image/png": "[encoded data removed]",
      "text/plain": [
       "<Figure size 432x288 with 1 Axes>"
      ]
     },
     "metadata": {
      "needs_background": "light"
     },
     "output_type": "display_data"
    }
   ],
   "source": [
    "sns.barplot(x=list(Scores.keys()), y=list(Scores.values()) )\n",
    "plt.ylim(0.9,)\n",
    "plt.show()"
   ]
  },
  {
   "cell_type": "code",
   "execution_count": 83,
   "metadata": {},
   "outputs": [],
   "source": [
    "from sklearn.model_selection import cross_val_score\n",
    "from sklearn.metrics import plot_confusion_matrix"
   ]
  },
  {
   "cell_type": "code",
   "execution_count": 66,
   "metadata": {},
   "outputs": [
    {
     "data": {
      "text/plain": [
       "0.9949999999999999"
      ]
     },
     "execution_count": 66,
     "metadata": {},
     "output_type": "execute_result"
    }
   ],
   "source": [
    "rf = RandomForestClassifier()\n",
    "cross_val_score(rf, X, y, cv=10).mean()"
   ]
  },
  {
   "cell_type": "code",
   "execution_count": 67,
   "metadata": {},
   "outputs": [
    {
     "data": {
      "text/plain": [
       "0.9875"
      ]
     },
     "execution_count": 67,
     "metadata": {},
     "output_type": "execute_result"
    }
   ],
   "source": [
    "rf.fit(X_train, y_train)\n",
    "pred_rf = rf.predict(X_test)\n",
    "accuracy_score(y_test, pred_rf)"
   ]
  },
  {
   "cell_type": "code",
   "execution_count": 85,
   "metadata": {},
   "outputs": [
    {
     "data": {
      "text/plain": [
       "<sklearn.metrics._plot.confusion_matrix.ConfusionMatrixDisplay at 0x7f7f195d82b0>"
      ]
     },
     "execution_count": 85,
     "metadata": {},
     "output_type": "execute_result"
    },
    {
     "data": {
      "image/png": "[encoded data removed]",
      "text/plain": [
       "<Figure size 432x288 with 2 Axes>"
      ]
     },
     "metadata": {
      "needs_background": "light"
     },
     "output_type": "display_data"
    }
   ],
   "source": [
    "plot_confusion_matrix(rf, X_train, y_train)"
   ]
  },
  {
   "cell_type": "code",
   "execution_count": 58,
   "metadata": {},
   "outputs": [],
   "source": [
    "# Save Model\n",
    "import joblib"
   ]
  },
  {
   "cell_type": "code",
   "execution_count": 68,
   "metadata": {},
   "outputs": [
    {
     "data": {
      "text/plain": [
       "['KidneyDiseasPredictor.pkl']"
      ]
     },
     "execution_count": 68,
     "metadata": {},
     "output_type": "execute_result"
    }
   ],
   "source": [
    "joblib.dump(rf, 'KidneyDiseasPredictor.pkl')"
   ]
  },
  {
   "cell_type": "code",
   "execution_count": 69,
   "metadata": {},
   "outputs": [],
   "source": [
    "model = joblib.load('KidneyDiseasPredictor.pkl')"
   ]
  },
  {
   "cell_type": "code",
   "execution_count": 82,
   "metadata": {},
   "outputs": [
    {
     "data": {
      "text/plain": [
       "array([1])"
      ]
     },
     "execution_count": 82,
     "metadata": {},
     "output_type": "execute_result"
    }
   ],
   "source": [
    "model.predict(X_test[4].reshape(1,-1))"
   ]
  },
  {
   "cell_type": "code",
   "execution_count": 77,
   "metadata": {},
   "outputs": [
    {
     "data": {
      "text/plain": [
       "id\n",
       "287    0\n",
       "149    1\n",
       "22     1\n",
       "325    0\n",
       "113    1\n",
       "      ..\n",
       "19     1\n",
       "130    1\n",
       "345    0\n",
       "293    0\n",
       "72     1\n",
       "Name: classification, Length: 80, dtype: int64"
      ]
     },
     "execution_count": 77,
     "metadata": {},
     "output_type": "execute_result"
    }
   ],
   "source": [
    "y_test"
   ]
  },
  {
   "cell_type": "code",
   "execution_count": 86,
   "metadata": {},
   "outputs": [],
   "source": [
    "# Prediction using ANN"
   ]
  },
  {
   "cell_type": "code",
   "execution_count": 108,
   "metadata": {},
   "outputs": [],
   "source": [
    "import keras as k\n",
    "model = Sequential()"
   ]
  },
  {
   "cell_type": "code",
   "execution_count": 109,
   "metadata": {},
   "outputs": [],
   "source": [
    "model.add(Dense(256, input_dim=19, kernel_initializer=k.initializers.random_normal(seed=13), activation='relu') )\n",
    "model.add(Dense(1, activation='hard_sigmoid'))"
   ]
  },
  {
   "cell_type": "code",
   "execution_count": 110,
   "metadata": {},
   "outputs": [],
   "source": [
    "# Compile the model\n",
    "model.compile(loss='binary_crossentropy', optimizer='adam', metrics=['accuracy'])"
   ]
  },
  {
   "cell_type": "code",
   "execution_count": 111,
   "metadata": {},
   "outputs": [
    {
     "name": "stdout",
     "output_type": "stream",
     "text": [
      "Epoch 1/500\n",
      "1/1 [==============================] - 1s 862ms/step - loss: 0.7304 - accuracy: 0.4406\n",
      "Epoch 2/500\n",
      "1/1 [==============================] - 0s 11ms/step - loss: 0.6939 - accuracy: 0.5531\n",
      "Epoch 3/500\n",
      "1/1 [==============================] - 0s 16ms/step - loss: 0.6597 - accuracy: 0.6469\n",
      "Epoch 4/500\n",
      "1/1 [==============================] - 0s 15ms/step - loss: 0.6276 - accuracy: 0.7281\n",
      "Epoch 5/500\n",
      "1/1 [==============================] - 0s 10ms/step - loss: 0.5973 - accuracy: 0.7688\n",
      "Epoch 6/500\n",
      "1/1 [==============================] - 0s 9ms/step - loss: 0.5685 - accuracy: 0.8031\n",
      "Epoch 7/500\n",
      "1/1 [==============================] - 0s 9ms/step - loss: 0.5412 - accuracy: 0.8094\n",
      "Epoch 8/500\n",
      "1/1 [==============================] - 0s 14ms/step - loss: 0.5152 - accuracy: 0.8125\n",
      "Epoch 9/500\n",
      "1/1 [==============================] - 0s 9ms/step - loss: 0.4905 - accuracy: 0.8344\n",
      "Epoch 10/500\n",
      "1/1 [==============================] - 0s 7ms/step - loss: 0.4672 - accuracy: 0.8344\n",
      "Epoch 11/500\n",
      "1/1 [==============================] - 0s 9ms/step - loss: 0.4449 - accuracy: 0.8406\n",
      "Epoch 12/500\n",
      "1/1 [==============================] - 0s 15ms/step - loss: 0.4239 - accuracy: 0.8406\n",
      "Epoch 13/500\n",
      "1/1 [==============================] - 0s 14ms/step - loss: 0.4043 - accuracy: 0.8406\n",
      "Epoch 14/500\n",
      "1/1 [==============================] - 0s 17ms/step - loss: 0.3865 - accuracy: 0.8438\n",
      "Epoch 15/500\n",
      "1/1 [==============================] - 0s 8ms/step - loss: 0.3700 - accuracy: 0.8469\n",
      "Epoch 16/500\n",
      "1/1 [==============================] - 0s 9ms/step - loss: 0.3544 - accuracy: 0.8469\n",
      "Epoch 17/500\n",
      "1/1 [==============================] - 0s 17ms/step - loss: 0.3398 - accuracy: 0.8469\n",
      "Epoch 18/500\n",
      "1/1 [==============================] - 0s 10ms/step - loss: 0.3261 - accuracy: 0.8500\n",
      "Epoch 19/500\n",
      "1/1 [==============================] - 0s 9ms/step - loss: 0.3131 - accuracy: 0.8500\n",
      "Epoch 20/500\n",
      "1/1 [==============================] - 0s 10ms/step - loss: 0.3009 - accuracy: 0.8594\n",
      "Epoch 21/500\n",
      "1/1 [==============================] - 0s 9ms/step - loss: 0.2893 - accuracy: 0.8594\n",
      "Epoch 22/500\n",
      "1/1 [==============================] - 0s 11ms/step - loss: 0.2782 - accuracy: 0.8625\n",
      "Epoch 23/500\n",
      "1/1 [==============================] - 0s 14ms/step - loss: 0.2678 - accuracy: 0.8625\n",
      "Epoch 24/500\n",
      "1/1 [==============================] - 0s 11ms/step - loss: 0.2581 - accuracy: 0.8625\n",
      "Epoch 25/500\n",
      "1/1 [==============================] - 0s 15ms/step - loss: 0.2492 - accuracy: 0.8656\n",
      "Epoch 26/500\n",
      "1/1 [==============================] - 0s 14ms/step - loss: 0.2410 - accuracy: 0.8656\n",
      "Epoch 27/500\n",
      "1/1 [==============================] - 0s 11ms/step - loss: 0.2334 - accuracy: 0.8687\n",
      "Epoch 28/500\n",
      "1/1 [==============================] - 0s 12ms/step - loss: 0.2262 - accuracy: 0.8687\n",
      "Epoch 29/500\n",
      "1/1 [==============================] - 0s 10ms/step - loss: 0.2195 - accuracy: 0.8719\n",
      "Epoch 30/500\n",
      "1/1 [==============================] - 0s 8ms/step - loss: 0.2131 - accuracy: 0.8719\n",
      "Epoch 31/500\n",
      "1/1 [==============================] - 0s 11ms/step - loss: 0.2070 - accuracy: 0.8844\n",
      "Epoch 32/500\n",
      "1/1 [==============================] - 0s 18ms/step - loss: 0.2010 - accuracy: 0.8875\n",
      "Epoch 33/500\n",
      "1/1 [==============================] - 0s 6ms/step - loss: 0.1952 - accuracy: 0.8875\n",
      "Epoch 34/500\n",
      "1/1 [==============================] - 0s 16ms/step - loss: 0.1896 - accuracy: 0.8875\n",
      "Epoch 35/500\n",
      "1/1 [==============================] - 0s 9ms/step - loss: 0.1841 - accuracy: 0.8875\n",
      "Epoch 36/500\n",
      "1/1 [==============================] - 0s 9ms/step - loss: 0.1788 - accuracy: 0.8938\n",
      "Epoch 37/500\n",
      "1/1 [==============================] - 0s 12ms/step - loss: 0.1737 - accuracy: 0.8938\n",
      "Epoch 38/500\n",
      "1/1 [==============================] - 0s 9ms/step - loss: 0.1687 - accuracy: 0.8969\n",
      "Epoch 39/500\n",
      "1/1 [==============================] - 0s 9ms/step - loss: 0.1639 - accuracy: 0.8969\n",
      "Epoch 40/500\n",
      "1/1 [==============================] - 0s 11ms/step - loss: 0.1593 - accuracy: 0.9031\n",
      "Epoch 41/500\n",
      "1/1 [==============================] - 0s 10ms/step - loss: 0.1549 - accuracy: 0.9125\n",
      "Epoch 42/500\n",
      "1/1 [==============================] - 0s 12ms/step - loss: 0.1507 - accuracy: 0.9156\n",
      "Epoch 43/500\n",
      "1/1 [==============================] - 0s 8ms/step - loss: 0.1466 - accuracy: 0.9187\n",
      "Epoch 44/500\n",
      "1/1 [==============================] - 0s 8ms/step - loss: 0.1426 - accuracy: 0.9187\n",
      "Epoch 45/500\n",
      "1/1 [==============================] - 0s 7ms/step - loss: 0.1387 - accuracy: 0.9312\n",
      "Epoch 46/500\n",
      "1/1 [==============================] - 0s 13ms/step - loss: 0.1350 - accuracy: 0.9344\n",
      "Epoch 47/500\n",
      "1/1 [==============================] - 0s 11ms/step - loss: 0.1313 - accuracy: 0.9344\n",
      "Epoch 48/500\n",
      "1/1 [==============================] - 0s 14ms/step - loss: 0.1278 - accuracy: 0.9406\n",
      "Epoch 49/500\n",
      "1/1 [==============================] - 0s 10ms/step - loss: 0.1244 - accuracy: 0.9469\n",
      "Epoch 50/500\n",
      "1/1 [==============================] - 0s 10ms/step - loss: 0.1212 - accuracy: 0.9531\n",
      "Epoch 51/500\n",
      "1/1 [==============================] - 0s 8ms/step - loss: 0.1181 - accuracy: 0.9531\n",
      "Epoch 52/500\n",
      "1/1 [==============================] - 0s 20ms/step - loss: 0.1150 - accuracy: 0.9563\n",
      "Epoch 53/500\n",
      "1/1 [==============================] - 0s 8ms/step - loss: 0.1120 - accuracy: 0.9625\n",
      "Epoch 54/500\n",
      "1/1 [==============================] - 0s 9ms/step - loss: 0.1091 - accuracy: 0.9625\n",
      "Epoch 55/500\n",
      "1/1 [==============================] - 0s 8ms/step - loss: 0.1063 - accuracy: 0.9625\n",
      "Epoch 56/500\n",
      "1/1 [==============================] - 0s 9ms/step - loss: 0.1035 - accuracy: 0.9656\n",
      "Epoch 57/500\n",
      "1/1 [==============================] - 0s 9ms/step - loss: 0.1007 - accuracy: 0.9656\n",
      "Epoch 58/500\n",
      "1/1 [==============================] - 0s 9ms/step - loss: 0.0980 - accuracy: 0.9656\n",
      "Epoch 59/500\n",
      "1/1 [==============================] - 0s 7ms/step - loss: 0.0954 - accuracy: 0.9656\n",
      "Epoch 60/500\n",
      "1/1 [==============================] - 0s 8ms/step - loss: 0.0928 - accuracy: 0.9688\n",
      "Epoch 61/500\n",
      "1/1 [==============================] - 0s 9ms/step - loss: 0.0903 - accuracy: 0.9719\n",
      "Epoch 62/500\n",
      "1/1 [==============================] - 0s 9ms/step - loss: 0.0878 - accuracy: 0.9719\n",
      "Epoch 63/500\n",
      "1/1 [==============================] - 0s 8ms/step - loss: 0.0853 - accuracy: 0.9750\n",
      "Epoch 64/500\n",
      "1/1 [==============================] - 0s 10ms/step - loss: 0.0829 - accuracy: 0.9750\n",
      "Epoch 65/500\n",
      "1/1 [==============================] - 0s 17ms/step - loss: 0.0806 - accuracy: 0.9750\n",
      "Epoch 66/500\n",
      "1/1 [==============================] - 0s 7ms/step - loss: 0.0784 - accuracy: 0.9781\n",
      "Epoch 67/500\n",
      "1/1 [==============================] - 0s 9ms/step - loss: 0.0762 - accuracy: 0.9812\n",
      "Epoch 68/500\n",
      "1/1 [==============================] - 0s 15ms/step - loss: 0.0740 - accuracy: 0.9812\n",
      "Epoch 69/500\n",
      "1/1 [==============================] - 0s 8ms/step - loss: 0.0720 - accuracy: 0.9812\n",
      "Epoch 70/500\n",
      "1/1 [==============================] - 0s 10ms/step - loss: 0.0700 - accuracy: 0.9844\n",
      "Epoch 71/500\n",
      "1/1 [==============================] - 0s 10ms/step - loss: 0.0681 - accuracy: 0.9844\n",
      "Epoch 72/500\n",
      "1/1 [==============================] - 0s 13ms/step - loss: 0.0663 - accuracy: 0.9875\n",
      "Epoch 73/500\n",
      "1/1 [==============================] - 0s 10ms/step - loss: 0.0646 - accuracy: 0.9875\n",
      "Epoch 74/500\n",
      "1/1 [==============================] - 0s 7ms/step - loss: 0.0628 - accuracy: 0.9875\n",
      "Epoch 75/500\n",
      "1/1 [==============================] - 0s 7ms/step - loss: 0.0612 - accuracy: 0.9875\n",
      "Epoch 76/500\n",
      "1/1 [==============================] - 0s 12ms/step - loss: 0.0595 - accuracy: 0.9875\n",
      "Epoch 77/500\n",
      "1/1 [==============================] - 0s 10ms/step - loss: 0.0579 - accuracy: 0.9875\n",
      "Epoch 78/500\n",
      "1/1 [==============================] - 0s 8ms/step - loss: 0.0563 - accuracy: 0.9875\n",
      "Epoch 79/500\n",
      "1/1 [==============================] - 0s 12ms/step - loss: 0.0548 - accuracy: 0.9875\n",
      "Epoch 80/500\n",
      "1/1 [==============================] - 0s 8ms/step - loss: 0.0534 - accuracy: 0.9906\n",
      "Epoch 81/500\n",
      "1/1 [==============================] - 0s 9ms/step - loss: 0.0520 - accuracy: 0.9906\n",
      "Epoch 82/500\n",
      "1/1 [==============================] - 0s 8ms/step - loss: 0.0506 - accuracy: 0.9937\n",
      "Epoch 83/500\n",
      "1/1 [==============================] - 0s 8ms/step - loss: 0.0493 - accuracy: 0.9937\n",
      "Epoch 84/500\n",
      "1/1 [==============================] - 0s 14ms/step - loss: 0.0481 - accuracy: 0.9969\n",
      "Epoch 85/500\n",
      "1/1 [==============================] - 0s 12ms/step - loss: 0.0469 - accuracy: 0.9969\n",
      "Epoch 86/500\n",
      "1/1 [==============================] - 0s 16ms/step - loss: 0.0457 - accuracy: 0.9969\n",
      "Epoch 87/500\n",
      "1/1 [==============================] - 0s 10ms/step - loss: 0.0446 - accuracy: 0.9969\n",
      "Epoch 88/500\n",
      "1/1 [==============================] - 0s 10ms/step - loss: 0.0435 - accuracy: 0.9969\n",
      "Epoch 89/500\n",
      "1/1 [==============================] - 0s 9ms/step - loss: 0.0424 - accuracy: 0.9969\n",
      "Epoch 90/500\n",
      "1/1 [==============================] - 0s 12ms/step - loss: 0.0413 - accuracy: 0.9969\n",
      "Epoch 91/500\n",
      "1/1 [==============================] - 0s 8ms/step - loss: 0.0404 - accuracy: 0.9969\n",
      "Epoch 92/500\n",
      "1/1 [==============================] - 0s 7ms/step - loss: 0.0394 - accuracy: 0.9969\n",
      "Epoch 93/500\n",
      "1/1 [==============================] - 0s 9ms/step - loss: 0.0385 - accuracy: 0.9969\n",
      "Epoch 94/500\n",
      "1/1 [==============================] - 0s 7ms/step - loss: 0.0376 - accuracy: 0.9969\n",
      "Epoch 95/500\n",
      "1/1 [==============================] - 0s 13ms/step - loss: 0.0368 - accuracy: 0.9969\n",
      "Epoch 96/500\n",
      "1/1 [==============================] - 0s 13ms/step - loss: 0.0359 - accuracy: 0.9969\n",
      "Epoch 97/500\n",
      "1/1 [==============================] - 0s 8ms/step - loss: 0.0351 - accuracy: 0.9969\n",
      "Epoch 98/500\n",
      "1/1 [==============================] - 0s 8ms/step - loss: 0.0343 - accuracy: 0.9969\n",
      "Epoch 99/500\n",
      "1/1 [==============================] - 0s 8ms/step - loss: 0.0335 - accuracy: 1.0000\n",
      "Epoch 100/500\n",
      "1/1 [==============================] - 0s 9ms/step - loss: 0.0327 - accuracy: 1.0000\n",
      "Epoch 101/500\n",
      "1/1 [==============================] - 0s 11ms/step - loss: 0.0319 - accuracy: 1.0000\n",
      "Epoch 102/500\n",
      "1/1 [==============================] - 0s 9ms/step - loss: 0.0312 - accuracy: 1.0000\n",
      "Epoch 103/500\n",
      "1/1 [==============================] - 0s 8ms/step - loss: 0.0305 - accuracy: 1.0000\n",
      "Epoch 104/500\n",
      "1/1 [==============================] - 0s 12ms/step - loss: 0.0298 - accuracy: 1.0000\n",
      "Epoch 105/500\n",
      "1/1 [==============================] - 0s 8ms/step - loss: 0.0291 - accuracy: 1.0000\n",
      "Epoch 106/500\n",
      "1/1 [==============================] - ETA: 0s - loss: 0.0285 - accuracy: 1.00 - 0s 12ms/step - loss: 0.0285 - accuracy: 1.0000\n",
      "Epoch 107/500\n",
      "1/1 [==============================] - 0s 8ms/step - loss: 0.0279 - accuracy: 1.0000\n",
      "Epoch 108/500\n",
      "1/1 [==============================] - 0s 11ms/step - loss: 0.0273 - accuracy: 0.9969\n",
      "Epoch 109/500\n",
      "1/1 [==============================] - 0s 10ms/step - loss: 0.0268 - accuracy: 0.9969\n",
      "Epoch 110/500\n",
      "1/1 [==============================] - 0s 10ms/step - loss: 0.0262 - accuracy: 0.9969\n",
      "Epoch 111/500\n",
      "1/1 [==============================] - 0s 7ms/step - loss: 0.0257 - accuracy: 0.9969\n",
      "Epoch 112/500\n",
      "1/1 [==============================] - 0s 8ms/step - loss: 0.0253 - accuracy: 0.9969\n",
      "Epoch 113/500\n",
      "1/1 [==============================] - 0s 13ms/step - loss: 0.0248 - accuracy: 0.9969\n",
      "Epoch 114/500\n",
      "1/1 [==============================] - 0s 12ms/step - loss: 0.0244 - accuracy: 0.9969\n",
      "Epoch 115/500\n",
      "1/1 [==============================] - 0s 8ms/step - loss: 0.0240 - accuracy: 0.9969\n",
      "Epoch 116/500\n",
      "1/1 [==============================] - 0s 7ms/step - loss: 0.0237 - accuracy: 0.9969\n",
      "Epoch 117/500\n",
      "1/1 [==============================] - 0s 6ms/step - loss: 0.0234 - accuracy: 0.9969\n",
      "Epoch 118/500\n",
      "1/1 [==============================] - 0s 9ms/step - loss: 0.0230 - accuracy: 0.9969\n",
      "Epoch 119/500\n",
      "1/1 [==============================] - 0s 7ms/step - loss: 0.0227 - accuracy: 0.9969\n",
      "Epoch 120/500\n",
      "1/1 [==============================] - 0s 12ms/step - loss: 0.0224 - accuracy: 1.0000\n",
      "Epoch 121/500\n",
      "1/1 [==============================] - 0s 10ms/step - loss: 0.0221 - accuracy: 1.0000\n",
      "Epoch 122/500\n",
      "1/1 [==============================] - 0s 10ms/step - loss: 0.0218 - accuracy: 1.0000\n",
      "Epoch 123/500\n",
      "1/1 [==============================] - 0s 11ms/step - loss: 0.0215 - accuracy: 1.0000\n",
      "Epoch 124/500\n",
      "1/1 [==============================] - 0s 9ms/step - loss: 0.0212 - accuracy: 1.0000\n",
      "Epoch 125/500\n",
      "1/1 [==============================] - 0s 9ms/step - loss: 0.0210 - accuracy: 1.0000\n",
      "Epoch 126/500\n",
      "1/1 [==============================] - 0s 8ms/step - loss: 0.0207 - accuracy: 1.0000\n",
      "Epoch 127/500\n",
      "1/1 [==============================] - 0s 16ms/step - loss: 0.0204 - accuracy: 1.0000\n",
      "Epoch 128/500\n",
      "1/1 [==============================] - 0s 14ms/step - loss: 0.0202 - accuracy: 1.0000\n",
      "Epoch 129/500\n",
      "1/1 [==============================] - 0s 9ms/step - loss: 0.0199 - accuracy: 1.0000\n",
      "Epoch 130/500\n",
      "1/1 [==============================] - 0s 8ms/step - loss: 0.0197 - accuracy: 1.0000\n",
      "Epoch 131/500\n",
      "1/1 [==============================] - 0s 14ms/step - loss: 0.0194 - accuracy: 1.0000\n",
      "Epoch 132/500\n",
      "1/1 [==============================] - 0s 13ms/step - loss: 0.0191 - accuracy: 1.0000\n",
      "Epoch 133/500\n",
      "1/1 [==============================] - 0s 10ms/step - loss: 0.0189 - accuracy: 1.0000\n",
      "Epoch 134/500\n",
      "1/1 [==============================] - 0s 10ms/step - loss: 0.0186 - accuracy: 1.0000\n",
      "Epoch 135/500\n",
      "1/1 [==============================] - 0s 9ms/step - loss: 0.0184 - accuracy: 1.0000\n",
      "Epoch 136/500\n",
      "1/1 [==============================] - 0s 15ms/step - loss: 0.0182 - accuracy: 1.0000\n",
      "Epoch 137/500\n",
      "1/1 [==============================] - 0s 11ms/step - loss: 0.0179 - accuracy: 1.0000\n",
      "Epoch 138/500\n",
      "1/1 [==============================] - 0s 12ms/step - loss: 0.0177 - accuracy: 1.0000\n",
      "Epoch 139/500\n",
      "1/1 [==============================] - 0s 9ms/step - loss: 0.0174 - accuracy: 1.0000\n",
      "Epoch 140/500\n",
      "1/1 [==============================] - 0s 21ms/step - loss: 0.0172 - accuracy: 1.0000\n",
      "Epoch 141/500\n",
      "1/1 [==============================] - 0s 7ms/step - loss: 0.0170 - accuracy: 1.0000\n",
      "Epoch 142/500\n",
      "1/1 [==============================] - 0s 9ms/step - loss: 0.0168 - accuracy: 1.0000\n",
      "Epoch 143/500\n",
      "1/1 [==============================] - 0s 8ms/step - loss: 0.0165 - accuracy: 1.0000\n",
      "Epoch 144/500\n",
      "1/1 [==============================] - 0s 9ms/step - loss: 0.0163 - accuracy: 1.0000\n",
      "Epoch 145/500\n",
      "1/1 [==============================] - 0s 13ms/step - loss: 0.0161 - accuracy: 1.0000\n",
      "Epoch 146/500\n",
      "1/1 [==============================] - 0s 12ms/step - loss: 0.0159 - accuracy: 1.0000\n",
      "Epoch 147/500\n",
      "1/1 [==============================] - 0s 10ms/step - loss: 0.0157 - accuracy: 1.0000\n",
      "Epoch 148/500\n",
      "1/1 [==============================] - 0s 12ms/step - loss: 0.0156 - accuracy: 1.0000\n",
      "Epoch 149/500\n",
      "1/1 [==============================] - 0s 8ms/step - loss: 0.0154 - accuracy: 1.0000\n",
      "Epoch 150/500\n",
      "1/1 [==============================] - 0s 13ms/step - loss: 0.0152 - accuracy: 1.0000\n",
      "Epoch 151/500\n",
      "1/1 [==============================] - 0s 10ms/step - loss: 0.0150 - accuracy: 1.0000\n",
      "Epoch 152/500\n",
      "1/1 [==============================] - 0s 14ms/step - loss: 0.0148 - accuracy: 1.0000\n",
      "Epoch 153/500\n",
      "1/1 [==============================] - 0s 9ms/step - loss: 0.0146 - accuracy: 1.0000\n",
      "Epoch 154/500\n",
      "1/1 [==============================] - 0s 11ms/step - loss: 0.0144 - accuracy: 1.0000\n",
      "Epoch 155/500\n",
      "1/1 [==============================] - 0s 13ms/step - loss: 0.0143 - accuracy: 1.0000\n",
      "Epoch 156/500\n",
      "1/1 [==============================] - 0s 8ms/step - loss: 0.0141 - accuracy: 1.0000\n",
      "Epoch 157/500\n",
      "1/1 [==============================] - 0s 8ms/step - loss: 0.0139 - accuracy: 1.0000\n",
      "Epoch 158/500\n",
      "1/1 [==============================] - 0s 11ms/step - loss: 0.0138 - accuracy: 1.0000\n",
      "Epoch 159/500\n",
      "1/1 [==============================] - 0s 8ms/step - loss: 0.0136 - accuracy: 1.0000\n",
      "Epoch 160/500\n",
      "1/1 [==============================] - 0s 7ms/step - loss: 0.0135 - accuracy: 1.0000\n",
      "Epoch 161/500\n",
      "1/1 [==============================] - 0s 12ms/step - loss: 0.0134 - accuracy: 1.0000\n",
      "Epoch 162/500\n",
      "1/1 [==============================] - 0s 10ms/step - loss: 0.0133 - accuracy: 1.0000\n",
      "Epoch 163/500\n",
      "1/1 [==============================] - 0s 9ms/step - loss: 0.0131 - accuracy: 1.0000\n",
      "Epoch 164/500\n",
      "1/1 [==============================] - 0s 14ms/step - loss: 0.0130 - accuracy: 1.0000\n",
      "Epoch 165/500\n",
      "1/1 [==============================] - 0s 8ms/step - loss: 0.0129 - accuracy: 1.0000\n",
      "Epoch 166/500\n"
     ]
    },
    {
     "name": "stdout",
     "output_type": "stream",
     "text": [
      "1/1 [==============================] - 0s 13ms/step - loss: 0.0128 - accuracy: 1.0000\n",
      "Epoch 167/500\n",
      "1/1 [==============================] - 0s 9ms/step - loss: 0.0127 - accuracy: 1.0000\n",
      "Epoch 168/500\n",
      "1/1 [==============================] - 0s 8ms/step - loss: 0.0126 - accuracy: 1.0000\n",
      "Epoch 169/500\n",
      "1/1 [==============================] - 0s 8ms/step - loss: 0.0125 - accuracy: 1.0000\n",
      "Epoch 170/500\n",
      "1/1 [==============================] - 0s 13ms/step - loss: 0.0124 - accuracy: 1.0000\n",
      "Epoch 171/500\n",
      "1/1 [==============================] - 0s 6ms/step - loss: 0.0123 - accuracy: 1.0000\n",
      "Epoch 172/500\n",
      "1/1 [==============================] - 0s 8ms/step - loss: 0.0122 - accuracy: 1.0000\n",
      "Epoch 173/500\n",
      "1/1 [==============================] - 0s 9ms/step - loss: 0.0121 - accuracy: 1.0000\n",
      "Epoch 174/500\n",
      "1/1 [==============================] - 0s 9ms/step - loss: 0.0120 - accuracy: 1.0000\n",
      "Epoch 175/500\n",
      "1/1 [==============================] - 0s 6ms/step - loss: 0.0119 - accuracy: 1.0000\n",
      "Epoch 176/500\n",
      "1/1 [==============================] - 0s 8ms/step - loss: 0.0118 - accuracy: 1.0000\n",
      "Epoch 177/500\n",
      "1/1 [==============================] - 0s 11ms/step - loss: 0.0117 - accuracy: 1.0000\n",
      "Epoch 178/500\n",
      "1/1 [==============================] - 0s 11ms/step - loss: 0.0116 - accuracy: 1.0000\n",
      "Epoch 179/500\n",
      "1/1 [==============================] - 0s 9ms/step - loss: 0.0115 - accuracy: 1.0000\n",
      "Epoch 180/500\n",
      "1/1 [==============================] - 0s 7ms/step - loss: 0.0114 - accuracy: 1.0000\n",
      "Epoch 181/500\n",
      "1/1 [==============================] - 0s 10ms/step - loss: 0.0113 - accuracy: 1.0000\n",
      "Epoch 182/500\n",
      "1/1 [==============================] - 0s 12ms/step - loss: 0.0113 - accuracy: 1.0000\n",
      "Epoch 183/500\n",
      "1/1 [==============================] - 0s 8ms/step - loss: 0.0112 - accuracy: 1.0000\n",
      "Epoch 184/500\n",
      "1/1 [==============================] - 0s 9ms/step - loss: 0.0111 - accuracy: 1.0000\n",
      "Epoch 185/500\n",
      "1/1 [==============================] - 0s 8ms/step - loss: 0.0110 - accuracy: 1.0000\n",
      "Epoch 186/500\n",
      "1/1 [==============================] - 0s 9ms/step - loss: 0.0109 - accuracy: 1.0000\n",
      "Epoch 187/500\n",
      "1/1 [==============================] - 0s 9ms/step - loss: 0.0108 - accuracy: 1.0000\n",
      "Epoch 188/500\n",
      "1/1 [==============================] - 0s 8ms/step - loss: 0.0107 - accuracy: 1.0000\n",
      "Epoch 189/500\n",
      "1/1 [==============================] - 0s 11ms/step - loss: 0.0106 - accuracy: 1.0000\n",
      "Epoch 190/500\n",
      "1/1 [==============================] - 0s 8ms/step - loss: 0.0106 - accuracy: 1.0000\n",
      "Epoch 191/500\n",
      "1/1 [==============================] - 0s 12ms/step - loss: 0.0105 - accuracy: 1.0000\n",
      "Epoch 192/500\n",
      "1/1 [==============================] - 0s 11ms/step - loss: 0.0104 - accuracy: 1.0000\n",
      "Epoch 193/500\n",
      "1/1 [==============================] - 0s 10ms/step - loss: 0.0103 - accuracy: 1.0000\n",
      "Epoch 194/500\n",
      "1/1 [==============================] - 0s 9ms/step - loss: 0.0103 - accuracy: 1.0000\n",
      "Epoch 195/500\n",
      "1/1 [==============================] - 0s 9ms/step - loss: 0.0102 - accuracy: 1.0000\n",
      "Epoch 196/500\n",
      "1/1 [==============================] - 0s 11ms/step - loss: 0.0101 - accuracy: 1.0000\n",
      "Epoch 197/500\n",
      "1/1 [==============================] - 0s 11ms/step - loss: 0.0101 - accuracy: 1.0000\n",
      "Epoch 198/500\n",
      "1/1 [==============================] - 0s 10ms/step - loss: 0.0100 - accuracy: 1.0000\n",
      "Epoch 199/500\n",
      "1/1 [==============================] - 0s 9ms/step - loss: 0.0100 - accuracy: 1.0000\n",
      "Epoch 200/500\n",
      "1/1 [==============================] - 0s 14ms/step - loss: 0.0099 - accuracy: 1.0000\n",
      "Epoch 201/500\n",
      "1/1 [==============================] - 0s 14ms/step - loss: 0.0098 - accuracy: 1.0000\n",
      "Epoch 202/500\n",
      "1/1 [==============================] - 0s 9ms/step - loss: 0.0098 - accuracy: 1.0000\n",
      "Epoch 203/500\n",
      "1/1 [==============================] - 0s 9ms/step - loss: 0.0097 - accuracy: 1.0000\n",
      "Epoch 204/500\n",
      "1/1 [==============================] - 0s 12ms/step - loss: 0.0097 - accuracy: 1.0000\n",
      "Epoch 205/500\n",
      "1/1 [==============================] - 0s 15ms/step - loss: 0.0096 - accuracy: 1.0000\n",
      "Epoch 206/500\n",
      "1/1 [==============================] - 0s 9ms/step - loss: 0.0095 - accuracy: 1.0000\n",
      "Epoch 207/500\n",
      "1/1 [==============================] - 0s 12ms/step - loss: 0.0095 - accuracy: 1.0000\n",
      "Epoch 208/500\n",
      "1/1 [==============================] - 0s 9ms/step - loss: 0.0094 - accuracy: 1.0000\n",
      "Epoch 209/500\n",
      "1/1 [==============================] - 0s 17ms/step - loss: 0.0094 - accuracy: 1.0000\n",
      "Epoch 210/500\n",
      "1/1 [==============================] - 0s 14ms/step - loss: 0.0093 - accuracy: 1.0000\n",
      "Epoch 211/500\n",
      "1/1 [==============================] - 0s 8ms/step - loss: 0.0093 - accuracy: 1.0000\n",
      "Epoch 212/500\n",
      "1/1 [==============================] - 0s 12ms/step - loss: 0.0092 - accuracy: 1.0000\n",
      "Epoch 213/500\n",
      "1/1 [==============================] - 0s 10ms/step - loss: 0.0092 - accuracy: 1.0000\n",
      "Epoch 214/500\n",
      "1/1 [==============================] - 0s 9ms/step - loss: 0.0091 - accuracy: 1.0000\n",
      "Epoch 215/500\n",
      "1/1 [==============================] - 0s 9ms/step - loss: 0.0090 - accuracy: 1.0000\n",
      "Epoch 216/500\n",
      "1/1 [==============================] - 0s 13ms/step - loss: 0.0090 - accuracy: 1.0000\n",
      "Epoch 217/500\n",
      "1/1 [==============================] - 0s 9ms/step - loss: 0.0089 - accuracy: 1.0000\n",
      "Epoch 218/500\n",
      "1/1 [==============================] - 0s 12ms/step - loss: 0.0089 - accuracy: 1.0000\n",
      "Epoch 219/500\n",
      "1/1 [==============================] - 0s 15ms/step - loss: 0.0088 - accuracy: 1.0000\n",
      "Epoch 220/500\n",
      "1/1 [==============================] - 0s 12ms/step - loss: 0.0088 - accuracy: 1.0000\n",
      "Epoch 221/500\n",
      "1/1 [==============================] - 0s 7ms/step - loss: 0.0087 - accuracy: 1.0000\n",
      "Epoch 222/500\n",
      "1/1 [==============================] - 0s 14ms/step - loss: 0.0087 - accuracy: 1.0000\n",
      "Epoch 223/500\n",
      "1/1 [==============================] - 0s 8ms/step - loss: 0.0086 - accuracy: 1.0000\n",
      "Epoch 224/500\n",
      "1/1 [==============================] - 0s 10ms/step - loss: 0.0086 - accuracy: 1.0000\n",
      "Epoch 225/500\n",
      "1/1 [==============================] - 0s 11ms/step - loss: 0.0085 - accuracy: 1.0000\n",
      "Epoch 226/500\n",
      "1/1 [==============================] - 0s 15ms/step - loss: 0.0084 - accuracy: 1.0000\n",
      "Epoch 227/500\n",
      "1/1 [==============================] - 0s 9ms/step - loss: 0.0084 - accuracy: 1.0000\n",
      "Epoch 228/500\n",
      "1/1 [==============================] - 0s 11ms/step - loss: 0.0083 - accuracy: 1.0000\n",
      "Epoch 229/500\n",
      "1/1 [==============================] - 0s 17ms/step - loss: 0.0083 - accuracy: 1.0000\n",
      "Epoch 230/500\n",
      "1/1 [==============================] - 0s 24ms/step - loss: 0.0082 - accuracy: 1.0000\n",
      "Epoch 231/500\n",
      "1/1 [==============================] - ETA: 0s - loss: 0.0082 - accuracy: 1.00 - 0s 12ms/step - loss: 0.0082 - accuracy: 1.0000\n",
      "Epoch 232/500\n",
      "1/1 [==============================] - 0s 10ms/step - loss: 0.0081 - accuracy: 1.0000\n",
      "Epoch 233/500\n",
      "1/1 [==============================] - 0s 12ms/step - loss: 0.0081 - accuracy: 1.0000\n",
      "Epoch 234/500\n",
      "1/1 [==============================] - 0s 10ms/step - loss: 0.0080 - accuracy: 1.0000\n",
      "Epoch 235/500\n",
      "1/1 [==============================] - 0s 11ms/step - loss: 0.0080 - accuracy: 1.0000\n",
      "Epoch 236/500\n",
      "1/1 [==============================] - 0s 15ms/step - loss: 0.0080 - accuracy: 1.0000\n",
      "Epoch 237/500\n",
      "1/1 [==============================] - 0s 9ms/step - loss: 0.0079 - accuracy: 1.0000\n",
      "Epoch 238/500\n",
      "1/1 [==============================] - 0s 9ms/step - loss: 0.0079 - accuracy: 1.0000\n",
      "Epoch 239/500\n",
      "1/1 [==============================] - 0s 14ms/step - loss: 0.0078 - accuracy: 1.0000\n",
      "Epoch 240/500\n",
      "1/1 [==============================] - 0s 15ms/step - loss: 0.0078 - accuracy: 1.0000\n",
      "Epoch 241/500\n",
      "1/1 [==============================] - 0s 11ms/step - loss: 0.0077 - accuracy: 1.0000\n",
      "Epoch 242/500\n",
      "1/1 [==============================] - 0s 11ms/step - loss: 0.0077 - accuracy: 1.0000\n",
      "Epoch 243/500\n",
      "1/1 [==============================] - 0s 12ms/step - loss: 0.0076 - accuracy: 1.0000\n",
      "Epoch 244/500\n",
      "1/1 [==============================] - 0s 9ms/step - loss: 0.0076 - accuracy: 1.0000\n",
      "Epoch 245/500\n",
      "1/1 [==============================] - 0s 11ms/step - loss: 0.0076 - accuracy: 1.0000\n",
      "Epoch 246/500\n",
      "1/1 [==============================] - 0s 8ms/step - loss: 0.0075 - accuracy: 1.0000\n",
      "Epoch 247/500\n",
      "1/1 [==============================] - 0s 11ms/step - loss: 0.0075 - accuracy: 1.0000\n",
      "Epoch 248/500\n"
     ]
    },
    {
     "name": "stdout",
     "output_type": "stream",
     "text": [
      "1/1 [==============================] - 0s 6ms/step - loss: 0.0074 - accuracy: 1.0000\n",
      "Epoch 249/500\n",
      "1/1 [==============================] - 0s 8ms/step - loss: 0.0074 - accuracy: 1.0000\n",
      "Epoch 250/500\n",
      "1/1 [==============================] - 0s 10ms/step - loss: 0.0073 - accuracy: 1.0000\n",
      "Epoch 251/500\n",
      "1/1 [==============================] - 0s 7ms/step - loss: 0.0073 - accuracy: 1.0000\n",
      "Epoch 252/500\n",
      "1/1 [==============================] - 0s 13ms/step - loss: 0.0072 - accuracy: 1.0000\n",
      "Epoch 253/500\n",
      "1/1 [==============================] - 0s 10ms/step - loss: 0.0072 - accuracy: 1.0000\n",
      "Epoch 254/500\n",
      "1/1 [==============================] - 0s 8ms/step - loss: 0.0072 - accuracy: 1.0000\n",
      "Epoch 255/500\n",
      "1/1 [==============================] - 0s 7ms/step - loss: 0.0071 - accuracy: 1.0000\n",
      "Epoch 256/500\n",
      "1/1 [==============================] - 0s 6ms/step - loss: 0.0071 - accuracy: 1.0000\n",
      "Epoch 257/500\n",
      "1/1 [==============================] - 0s 10ms/step - loss: 0.0070 - accuracy: 1.0000\n",
      "Epoch 258/500\n",
      "1/1 [==============================] - 0s 9ms/step - loss: 0.0070 - accuracy: 1.0000\n",
      "Epoch 259/500\n",
      "1/1 [==============================] - 0s 6ms/step - loss: 0.0069 - accuracy: 1.0000\n",
      "Epoch 260/500\n",
      "1/1 [==============================] - 0s 12ms/step - loss: 0.0069 - accuracy: 1.0000\n",
      "Epoch 261/500\n",
      "1/1 [==============================] - 0s 14ms/step - loss: 0.0068 - accuracy: 1.0000\n",
      "Epoch 262/500\n",
      "1/1 [==============================] - 0s 9ms/step - loss: 0.0068 - accuracy: 1.0000\n",
      "Epoch 263/500\n",
      "1/1 [==============================] - 0s 9ms/step - loss: 0.0068 - accuracy: 1.0000\n",
      "Epoch 264/500\n",
      "1/1 [==============================] - 0s 12ms/step - loss: 0.0067 - accuracy: 1.0000\n",
      "Epoch 265/500\n",
      "1/1 [==============================] - 0s 11ms/step - loss: 0.0067 - accuracy: 1.0000\n",
      "Epoch 266/500\n",
      "1/1 [==============================] - 0s 8ms/step - loss: 0.0066 - accuracy: 1.0000\n",
      "Epoch 267/500\n",
      "1/1 [==============================] - 0s 10ms/step - loss: 0.0066 - accuracy: 1.0000\n",
      "Epoch 268/500\n",
      "1/1 [==============================] - 0s 12ms/step - loss: 0.0065 - accuracy: 1.0000\n",
      "Epoch 269/500\n",
      "1/1 [==============================] - 0s 8ms/step - loss: 0.0065 - accuracy: 1.0000\n",
      "Epoch 270/500\n",
      "1/1 [==============================] - 0s 8ms/step - loss: 0.0064 - accuracy: 1.0000\n",
      "Epoch 271/500\n",
      "1/1 [==============================] - 0s 11ms/step - loss: 0.0064 - accuracy: 1.0000\n",
      "Epoch 272/500\n",
      "1/1 [==============================] - 0s 9ms/step - loss: 0.0064 - accuracy: 1.0000\n",
      "Epoch 273/500\n",
      "1/1 [==============================] - 0s 18ms/step - loss: 0.0063 - accuracy: 1.0000\n",
      "Epoch 274/500\n",
      "1/1 [==============================] - 0s 12ms/step - loss: 0.0063 - accuracy: 1.0000\n",
      "Epoch 275/500\n",
      "1/1 [==============================] - 0s 16ms/step - loss: 0.0062 - accuracy: 1.0000\n",
      "Epoch 276/500\n",
      "1/1 [==============================] - 0s 10ms/step - loss: 0.0062 - accuracy: 1.0000\n",
      "Epoch 277/500\n",
      "1/1 [==============================] - 0s 11ms/step - loss: 0.0061 - accuracy: 1.0000\n",
      "Epoch 278/500\n",
      "1/1 [==============================] - 0s 10ms/step - loss: 0.0061 - accuracy: 1.0000\n",
      "Epoch 279/500\n",
      "1/1 [==============================] - 0s 10ms/step - loss: 0.0060 - accuracy: 1.0000\n",
      "Epoch 280/500\n",
      "1/1 [==============================] - 0s 13ms/step - loss: 0.0060 - accuracy: 1.0000\n",
      "Epoch 281/500\n",
      "1/1 [==============================] - 0s 11ms/step - loss: 0.0059 - accuracy: 1.0000\n",
      "Epoch 282/500\n",
      "1/1 [==============================] - 0s 10ms/step - loss: 0.0059 - accuracy: 1.0000\n",
      "Epoch 283/500\n",
      "1/1 [==============================] - 0s 8ms/step - loss: 0.0059 - accuracy: 1.0000\n",
      "Epoch 284/500\n",
      "1/1 [==============================] - 0s 8ms/step - loss: 0.0058 - accuracy: 1.0000\n",
      "Epoch 285/500\n",
      "1/1 [==============================] - 0s 8ms/step - loss: 0.0058 - accuracy: 1.0000\n",
      "Epoch 286/500\n",
      "1/1 [==============================] - 0s 9ms/step - loss: 0.0058 - accuracy: 1.0000\n",
      "Epoch 287/500\n",
      "1/1 [==============================] - 0s 10ms/step - loss: 0.0057 - accuracy: 1.0000\n",
      "Epoch 288/500\n",
      "1/1 [==============================] - 0s 10ms/step - loss: 0.0057 - accuracy: 1.0000\n",
      "Epoch 289/500\n",
      "1/1 [==============================] - 0s 10ms/step - loss: 0.0056 - accuracy: 1.0000\n",
      "Epoch 290/500\n",
      "1/1 [==============================] - 0s 8ms/step - loss: 0.0056 - accuracy: 1.0000\n",
      "Epoch 291/500\n",
      "1/1 [==============================] - 0s 13ms/step - loss: 0.0056 - accuracy: 1.0000\n",
      "Epoch 292/500\n",
      "1/1 [==============================] - 0s 13ms/step - loss: 0.0055 - accuracy: 1.0000\n",
      "Epoch 293/500\n",
      "1/1 [==============================] - 0s 9ms/step - loss: 0.0055 - accuracy: 1.0000\n",
      "Epoch 294/500\n",
      "1/1 [==============================] - 0s 7ms/step - loss: 0.0054 - accuracy: 1.0000\n",
      "Epoch 295/500\n",
      "1/1 [==============================] - 0s 11ms/step - loss: 0.0054 - accuracy: 1.0000\n",
      "Epoch 296/500\n",
      "1/1 [==============================] - 0s 7ms/step - loss: 0.0054 - accuracy: 1.0000\n",
      "Epoch 297/500\n",
      "1/1 [==============================] - 0s 11ms/step - loss: 0.0053 - accuracy: 1.0000\n",
      "Epoch 298/500\n",
      "1/1 [==============================] - 0s 11ms/step - loss: 0.0053 - accuracy: 1.0000\n",
      "Epoch 299/500\n",
      "1/1 [==============================] - 0s 11ms/step - loss: 0.0053 - accuracy: 1.0000\n",
      "Epoch 300/500\n",
      "1/1 [==============================] - 0s 12ms/step - loss: 0.0052 - accuracy: 1.0000\n",
      "Epoch 301/500\n",
      "1/1 [==============================] - 0s 9ms/step - loss: 0.0052 - accuracy: 1.0000\n",
      "Epoch 302/500\n",
      "1/1 [==============================] - 0s 9ms/step - loss: 0.0051 - accuracy: 1.0000\n",
      "Epoch 303/500\n",
      "1/1 [==============================] - 0s 12ms/step - loss: 0.0051 - accuracy: 1.0000\n",
      "Epoch 304/500\n",
      "1/1 [==============================] - 0s 13ms/step - loss: 0.0051 - accuracy: 1.0000\n",
      "Epoch 305/500\n",
      "1/1 [==============================] - 0s 7ms/step - loss: 0.0050 - accuracy: 1.0000\n",
      "Epoch 306/500\n",
      "1/1 [==============================] - 0s 13ms/step - loss: 0.0050 - accuracy: 1.0000\n",
      "Epoch 307/500\n",
      "1/1 [==============================] - 0s 12ms/step - loss: 0.0049 - accuracy: 1.0000\n",
      "Epoch 308/500\n",
      "1/1 [==============================] - 0s 14ms/step - loss: 0.0049 - accuracy: 1.0000\n",
      "Epoch 309/500\n",
      "1/1 [==============================] - 0s 12ms/step - loss: 0.0049 - accuracy: 1.0000\n",
      "Epoch 310/500\n",
      "1/1 [==============================] - 0s 13ms/step - loss: 0.0048 - accuracy: 1.0000\n",
      "Epoch 311/500\n",
      "1/1 [==============================] - 0s 12ms/step - loss: 0.0048 - accuracy: 1.0000\n",
      "Epoch 312/500\n",
      "1/1 [==============================] - 0s 9ms/step - loss: 0.0047 - accuracy: 1.0000\n",
      "Epoch 313/500\n",
      "1/1 [==============================] - 0s 13ms/step - loss: 0.0047 - accuracy: 1.0000\n",
      "Epoch 314/500\n",
      "1/1 [==============================] - 0s 13ms/step - loss: 0.0047 - accuracy: 1.0000\n",
      "Epoch 315/500\n",
      "1/1 [==============================] - 0s 13ms/step - loss: 0.0046 - accuracy: 1.0000\n",
      "Epoch 316/500\n",
      "1/1 [==============================] - 0s 10ms/step - loss: 0.0046 - accuracy: 1.0000\n",
      "Epoch 317/500\n",
      "1/1 [==============================] - 0s 12ms/step - loss: 0.0046 - accuracy: 1.0000\n",
      "Epoch 318/500\n",
      "1/1 [==============================] - 0s 8ms/step - loss: 0.0045 - accuracy: 1.0000\n",
      "Epoch 319/500\n",
      "1/1 [==============================] - 0s 12ms/step - loss: 0.0045 - accuracy: 1.0000\n",
      "Epoch 320/500\n",
      "1/1 [==============================] - 0s 11ms/step - loss: 0.0045 - accuracy: 1.0000\n",
      "Epoch 321/500\n",
      "1/1 [==============================] - 0s 8ms/step - loss: 0.0044 - accuracy: 1.0000\n",
      "Epoch 322/500\n",
      "1/1 [==============================] - 0s 8ms/step - loss: 0.0044 - accuracy: 1.0000\n",
      "Epoch 323/500\n",
      "1/1 [==============================] - 0s 12ms/step - loss: 0.0044 - accuracy: 1.0000\n",
      "Epoch 324/500\n",
      "1/1 [==============================] - 0s 9ms/step - loss: 0.0044 - accuracy: 1.0000\n",
      "Epoch 325/500\n",
      "1/1 [==============================] - 0s 12ms/step - loss: 0.0043 - accuracy: 1.0000\n",
      "Epoch 326/500\n",
      "1/1 [==============================] - 0s 20ms/step - loss: 0.0043 - accuracy: 1.0000\n",
      "Epoch 327/500\n",
      "1/1 [==============================] - 0s 8ms/step - loss: 0.0043 - accuracy: 1.0000\n",
      "Epoch 328/500\n",
      "1/1 [==============================] - 0s 8ms/step - loss: 0.0043 - accuracy: 1.0000\n",
      "Epoch 329/500\n",
      "1/1 [==============================] - 0s 7ms/step - loss: 0.0042 - accuracy: 1.0000\n",
      "Epoch 330/500\n",
      "1/1 [==============================] - 0s 8ms/step - loss: 0.0042 - accuracy: 1.0000\n",
      "Epoch 331/500\n",
      "1/1 [==============================] - 0s 10ms/step - loss: 0.0042 - accuracy: 1.0000\n",
      "Epoch 332/500\n",
      "1/1 [==============================] - 0s 9ms/step - loss: 0.0042 - accuracy: 1.0000\n",
      "Epoch 333/500\n",
      "1/1 [==============================] - 0s 8ms/step - loss: 0.0041 - accuracy: 1.0000\n",
      "Epoch 334/500\n",
      "1/1 [==============================] - 0s 7ms/step - loss: 0.0041 - accuracy: 1.0000\n",
      "Epoch 335/500\n",
      "1/1 [==============================] - 0s 11ms/step - loss: 0.0041 - accuracy: 1.0000\n",
      "Epoch 336/500\n",
      "1/1 [==============================] - 0s 8ms/step - loss: 0.0041 - accuracy: 1.0000\n",
      "Epoch 337/500\n",
      "1/1 [==============================] - 0s 8ms/step - loss: 0.0040 - accuracy: 1.0000\n",
      "Epoch 338/500\n",
      "1/1 [==============================] - 0s 9ms/step - loss: 0.0040 - accuracy: 1.0000\n",
      "Epoch 339/500\n",
      "1/1 [==============================] - 0s 8ms/step - loss: 0.0040 - accuracy: 1.0000\n",
      "Epoch 340/500\n",
      "1/1 [==============================] - 0s 11ms/step - loss: 0.0040 - accuracy: 1.0000\n",
      "Epoch 341/500\n",
      "1/1 [==============================] - 0s 8ms/step - loss: 0.0039 - accuracy: 1.0000\n",
      "Epoch 342/500\n",
      "1/1 [==============================] - 0s 7ms/step - loss: 0.0039 - accuracy: 1.0000\n",
      "Epoch 343/500\n",
      "1/1 [==============================] - 0s 10ms/step - loss: 0.0039 - accuracy: 1.0000\n",
      "Epoch 344/500\n",
      "1/1 [==============================] - 0s 10ms/step - loss: 0.0039 - accuracy: 1.0000\n",
      "Epoch 345/500\n",
      "1/1 [==============================] - 0s 8ms/step - loss: 0.0039 - accuracy: 1.0000\n",
      "Epoch 346/500\n",
      "1/1 [==============================] - 0s 8ms/step - loss: 0.0038 - accuracy: 1.0000\n",
      "Epoch 347/500\n",
      "1/1 [==============================] - 0s 7ms/step - loss: 0.0038 - accuracy: 1.0000\n",
      "Epoch 348/500\n",
      "1/1 [==============================] - 0s 8ms/step - loss: 0.0038 - accuracy: 1.0000\n",
      "Epoch 349/500\n",
      "1/1 [==============================] - 0s 10ms/step - loss: 0.0038 - accuracy: 1.0000\n",
      "Epoch 350/500\n",
      "1/1 [==============================] - 0s 10ms/step - loss: 0.0037 - accuracy: 1.0000\n",
      "Epoch 351/500\n",
      "1/1 [==============================] - 0s 6ms/step - loss: 0.0037 - accuracy: 1.0000\n",
      "Epoch 352/500\n",
      "1/1 [==============================] - 0s 11ms/step - loss: 0.0037 - accuracy: 1.0000\n",
      "Epoch 353/500\n",
      "1/1 [==============================] - 0s 7ms/step - loss: 0.0037 - accuracy: 1.0000\n",
      "Epoch 354/500\n",
      "1/1 [==============================] - 0s 7ms/step - loss: 0.0036 - accuracy: 1.0000\n",
      "Epoch 355/500\n",
      "1/1 [==============================] - 0s 10ms/step - loss: 0.0036 - accuracy: 1.0000\n",
      "Epoch 356/500\n",
      "1/1 [==============================] - 0s 9ms/step - loss: 0.0036 - accuracy: 1.0000\n",
      "Epoch 357/500\n",
      "1/1 [==============================] - 0s 13ms/step - loss: 0.0036 - accuracy: 1.0000\n",
      "Epoch 358/500\n",
      "1/1 [==============================] - 0s 8ms/step - loss: 0.0036 - accuracy: 1.0000\n",
      "Epoch 359/500\n",
      "1/1 [==============================] - 0s 8ms/step - loss: 0.0035 - accuracy: 1.0000\n",
      "Epoch 360/500\n",
      "1/1 [==============================] - 0s 9ms/step - loss: 0.0035 - accuracy: 1.0000\n",
      "Epoch 361/500\n",
      "1/1 [==============================] - 0s 13ms/step - loss: 0.0035 - accuracy: 1.0000\n",
      "Epoch 362/500\n",
      "1/1 [==============================] - 0s 14ms/step - loss: 0.0035 - accuracy: 1.0000\n",
      "Epoch 363/500\n",
      "1/1 [==============================] - 0s 9ms/step - loss: 0.0035 - accuracy: 1.0000\n",
      "Epoch 364/500\n",
      "1/1 [==============================] - 0s 9ms/step - loss: 0.0034 - accuracy: 1.0000\n",
      "Epoch 365/500\n",
      "1/1 [==============================] - 0s 11ms/step - loss: 0.0034 - accuracy: 1.0000\n",
      "Epoch 366/500\n",
      "1/1 [==============================] - 0s 12ms/step - loss: 0.0034 - accuracy: 1.0000\n",
      "Epoch 367/500\n",
      "1/1 [==============================] - 0s 14ms/step - loss: 0.0034 - accuracy: 1.0000\n",
      "Epoch 368/500\n",
      "1/1 [==============================] - 0s 10ms/step - loss: 0.0033 - accuracy: 1.0000\n",
      "Epoch 369/500\n",
      "1/1 [==============================] - 0s 9ms/step - loss: 0.0033 - accuracy: 1.0000\n",
      "Epoch 370/500\n",
      "1/1 [==============================] - 0s 6ms/step - loss: 0.0033 - accuracy: 1.0000\n",
      "Epoch 371/500\n",
      "1/1 [==============================] - 0s 7ms/step - loss: 0.0033 - accuracy: 1.0000\n",
      "Epoch 372/500\n",
      "1/1 [==============================] - 0s 12ms/step - loss: 0.0033 - accuracy: 1.0000\n",
      "Epoch 373/500\n",
      "1/1 [==============================] - 0s 10ms/step - loss: 0.0032 - accuracy: 1.0000\n",
      "Epoch 374/500\n",
      "1/1 [==============================] - 0s 10ms/step - loss: 0.0032 - accuracy: 1.0000\n",
      "Epoch 375/500\n",
      "1/1 [==============================] - 0s 10ms/step - loss: 0.0032 - accuracy: 1.0000\n",
      "Epoch 376/500\n",
      "1/1 [==============================] - 0s 12ms/step - loss: 0.0032 - accuracy: 1.0000\n",
      "Epoch 377/500\n",
      "1/1 [==============================] - 0s 7ms/step - loss: 0.0032 - accuracy: 1.0000\n",
      "Epoch 378/500\n",
      "1/1 [==============================] - 0s 9ms/step - loss: 0.0032 - accuracy: 1.0000\n",
      "Epoch 379/500\n",
      "1/1 [==============================] - 0s 10ms/step - loss: 0.0031 - accuracy: 1.0000\n",
      "Epoch 380/500\n",
      "1/1 [==============================] - 0s 6ms/step - loss: 0.0031 - accuracy: 1.0000\n",
      "Epoch 381/500\n",
      "1/1 [==============================] - 0s 6ms/step - loss: 0.0031 - accuracy: 1.0000\n",
      "Epoch 382/500\n",
      "1/1 [==============================] - 0s 15ms/step - loss: 0.0031 - accuracy: 1.0000\n",
      "Epoch 383/500\n",
      "1/1 [==============================] - 0s 11ms/step - loss: 0.0031 - accuracy: 1.0000\n",
      "Epoch 384/500\n",
      "1/1 [==============================] - 0s 10ms/step - loss: 0.0031 - accuracy: 1.0000\n",
      "Epoch 385/500\n",
      "1/1 [==============================] - 0s 8ms/step - loss: 0.0030 - accuracy: 1.0000\n",
      "Epoch 386/500\n",
      "1/1 [==============================] - 0s 11ms/step - loss: 0.0030 - accuracy: 1.0000\n",
      "Epoch 387/500\n",
      "1/1 [==============================] - 0s 6ms/step - loss: 0.0030 - accuracy: 1.0000\n",
      "Epoch 388/500\n",
      "1/1 [==============================] - 0s 7ms/step - loss: 0.0030 - accuracy: 1.0000\n",
      "Epoch 389/500\n",
      "1/1 [==============================] - 0s 11ms/step - loss: 0.0030 - accuracy: 1.0000\n",
      "Epoch 390/500\n",
      "1/1 [==============================] - 0s 11ms/step - loss: 0.0030 - accuracy: 1.0000\n",
      "Epoch 391/500\n",
      "1/1 [==============================] - 0s 9ms/step - loss: 0.0029 - accuracy: 1.0000\n",
      "Epoch 392/500\n",
      "1/1 [==============================] - 0s 11ms/step - loss: 0.0029 - accuracy: 1.0000\n",
      "Epoch 393/500\n",
      "1/1 [==============================] - 0s 9ms/step - loss: 0.0029 - accuracy: 1.0000\n",
      "Epoch 394/500\n",
      "1/1 [==============================] - 0s 13ms/step - loss: 0.0029 - accuracy: 1.0000\n",
      "Epoch 395/500\n",
      "1/1 [==============================] - 0s 12ms/step - loss: 0.0029 - accuracy: 1.0000\n",
      "Epoch 396/500\n",
      "1/1 [==============================] - 0s 12ms/step - loss: 0.0029 - accuracy: 1.0000\n",
      "Epoch 397/500\n",
      "1/1 [==============================] - 0s 10ms/step - loss: 0.0029 - accuracy: 1.0000\n",
      "Epoch 398/500\n",
      "1/1 [==============================] - 0s 8ms/step - loss: 0.0028 - accuracy: 1.0000\n",
      "Epoch 399/500\n",
      "1/1 [==============================] - 0s 14ms/step - loss: 0.0028 - accuracy: 1.0000\n",
      "Epoch 400/500\n",
      "1/1 [==============================] - 0s 13ms/step - loss: 0.0028 - accuracy: 1.0000\n",
      "Epoch 401/500\n",
      "1/1 [==============================] - 0s 8ms/step - loss: 0.0028 - accuracy: 1.0000\n",
      "Epoch 402/500\n",
      "1/1 [==============================] - 0s 14ms/step - loss: 0.0028 - accuracy: 1.0000\n",
      "Epoch 403/500\n",
      "1/1 [==============================] - 0s 16ms/step - loss: 0.0028 - accuracy: 1.0000\n",
      "Epoch 404/500\n",
      "1/1 [==============================] - 0s 10ms/step - loss: 0.0028 - accuracy: 1.0000\n",
      "Epoch 405/500\n",
      "1/1 [==============================] - 0s 13ms/step - loss: 0.0027 - accuracy: 1.0000\n",
      "Epoch 406/500\n",
      "1/1 [==============================] - 0s 8ms/step - loss: 0.0027 - accuracy: 1.0000\n",
      "Epoch 407/500\n",
      "1/1 [==============================] - 0s 9ms/step - loss: 0.0027 - accuracy: 1.0000\n",
      "Epoch 408/500\n",
      "1/1 [==============================] - 0s 8ms/step - loss: 0.0027 - accuracy: 1.0000\n",
      "Epoch 409/500\n",
      "1/1 [==============================] - 0s 9ms/step - loss: 0.0027 - accuracy: 1.0000\n",
      "Epoch 410/500\n",
      "1/1 [==============================] - 0s 10ms/step - loss: 0.0027 - accuracy: 1.0000\n",
      "Epoch 411/500\n",
      "1/1 [==============================] - 0s 7ms/step - loss: 0.0027 - accuracy: 1.0000\n",
      "Epoch 412/500\n"
     ]
    },
    {
     "name": "stdout",
     "output_type": "stream",
     "text": [
      "1/1 [==============================] - 0s 11ms/step - loss: 0.0026 - accuracy: 1.0000\n",
      "Epoch 413/500\n",
      "1/1 [==============================] - 0s 9ms/step - loss: 0.0026 - accuracy: 1.0000\n",
      "Epoch 414/500\n",
      "1/1 [==============================] - 0s 8ms/step - loss: 0.0026 - accuracy: 1.0000\n",
      "Epoch 415/500\n",
      "1/1 [==============================] - 0s 11ms/step - loss: 0.0026 - accuracy: 1.0000\n",
      "Epoch 416/500\n",
      "1/1 [==============================] - 0s 11ms/step - loss: 0.0026 - accuracy: 1.0000\n",
      "Epoch 417/500\n",
      "1/1 [==============================] - 0s 11ms/step - loss: 0.0026 - accuracy: 1.0000\n",
      "Epoch 418/500\n",
      "1/1 [==============================] - 0s 10ms/step - loss: 0.0025 - accuracy: 1.0000\n",
      "Epoch 419/500\n",
      "1/1 [==============================] - 0s 9ms/step - loss: 0.0025 - accuracy: 1.0000\n",
      "Epoch 420/500\n",
      "1/1 [==============================] - 0s 11ms/step - loss: 0.0025 - accuracy: 1.0000\n",
      "Epoch 421/500\n",
      "1/1 [==============================] - 0s 16ms/step - loss: 0.0025 - accuracy: 1.0000\n",
      "Epoch 422/500\n",
      "1/1 [==============================] - 0s 8ms/step - loss: 0.0025 - accuracy: 1.0000\n",
      "Epoch 423/500\n",
      "1/1 [==============================] - 0s 7ms/step - loss: 0.0025 - accuracy: 1.0000\n",
      "Epoch 424/500\n",
      "1/1 [==============================] - 0s 10ms/step - loss: 0.0025 - accuracy: 1.0000\n",
      "Epoch 425/500\n",
      "1/1 [==============================] - 0s 16ms/step - loss: 0.0024 - accuracy: 1.0000\n",
      "Epoch 426/500\n",
      "1/1 [==============================] - 0s 8ms/step - loss: 0.0024 - accuracy: 1.0000\n",
      "Epoch 427/500\n",
      "1/1 [==============================] - 0s 10ms/step - loss: 0.0024 - accuracy: 1.0000\n",
      "Epoch 428/500\n",
      "1/1 [==============================] - 0s 11ms/step - loss: 0.0024 - accuracy: 1.0000\n",
      "Epoch 429/500\n",
      "1/1 [==============================] - 0s 7ms/step - loss: 0.0024 - accuracy: 1.0000\n",
      "Epoch 430/500\n",
      "1/1 [==============================] - 0s 14ms/step - loss: 0.0024 - accuracy: 1.0000\n",
      "Epoch 431/500\n",
      "1/1 [==============================] - 0s 13ms/step - loss: 0.0024 - accuracy: 1.0000\n",
      "Epoch 432/500\n",
      "1/1 [==============================] - 0s 13ms/step - loss: 0.0024 - accuracy: 1.0000\n",
      "Epoch 433/500\n",
      "1/1 [==============================] - 0s 8ms/step - loss: 0.0024 - accuracy: 1.0000\n",
      "Epoch 434/500\n",
      "1/1 [==============================] - 0s 9ms/step - loss: 0.0023 - accuracy: 1.0000\n",
      "Epoch 435/500\n",
      "1/1 [==============================] - 0s 8ms/step - loss: 0.0023 - accuracy: 1.0000\n",
      "Epoch 436/500\n",
      "1/1 [==============================] - 0s 11ms/step - loss: 0.0023 - accuracy: 1.0000\n",
      "Epoch 437/500\n",
      "1/1 [==============================] - 0s 9ms/step - loss: 0.0023 - accuracy: 1.0000\n",
      "Epoch 438/500\n",
      "1/1 [==============================] - 0s 7ms/step - loss: 0.0023 - accuracy: 1.0000\n",
      "Epoch 439/500\n",
      "1/1 [==============================] - 0s 9ms/step - loss: 0.0023 - accuracy: 1.0000\n",
      "Epoch 440/500\n",
      "1/1 [==============================] - 0s 12ms/step - loss: 0.0023 - accuracy: 1.0000\n",
      "Epoch 441/500\n",
      "1/1 [==============================] - 0s 8ms/step - loss: 0.0023 - accuracy: 1.0000\n",
      "Epoch 442/500\n",
      "1/1 [==============================] - 0s 11ms/step - loss: 0.0023 - accuracy: 1.0000\n",
      "Epoch 443/500\n",
      "1/1 [==============================] - 0s 7ms/step - loss: 0.0022 - accuracy: 1.0000\n",
      "Epoch 444/500\n",
      "1/1 [==============================] - 0s 11ms/step - loss: 0.0022 - accuracy: 1.0000\n",
      "Epoch 445/500\n",
      "1/1 [==============================] - 0s 17ms/step - loss: 0.0022 - accuracy: 1.0000\n",
      "Epoch 446/500\n",
      "1/1 [==============================] - 0s 11ms/step - loss: 0.0022 - accuracy: 1.0000\n",
      "Epoch 447/500\n",
      "1/1 [==============================] - 0s 10ms/step - loss: 0.0022 - accuracy: 1.0000\n",
      "Epoch 448/500\n",
      "1/1 [==============================] - 0s 11ms/step - loss: 0.0022 - accuracy: 1.0000\n",
      "Epoch 449/500\n",
      "1/1 [==============================] - 0s 7ms/step - loss: 0.0022 - accuracy: 1.0000\n",
      "Epoch 450/500\n",
      "1/1 [==============================] - 0s 16ms/step - loss: 0.0022 - accuracy: 1.0000\n",
      "Epoch 451/500\n",
      "1/1 [==============================] - 0s 9ms/step - loss: 0.0022 - accuracy: 1.0000\n",
      "Epoch 452/500\n",
      "1/1 [==============================] - 0s 7ms/step - loss: 0.0021 - accuracy: 1.0000\n",
      "Epoch 453/500\n",
      "1/1 [==============================] - 0s 14ms/step - loss: 0.0021 - accuracy: 1.0000\n",
      "Epoch 454/500\n",
      "1/1 [==============================] - 0s 8ms/step - loss: 0.0021 - accuracy: 1.0000\n",
      "Epoch 455/500\n",
      "1/1 [==============================] - 0s 10ms/step - loss: 0.0021 - accuracy: 1.0000\n",
      "Epoch 456/500\n",
      "1/1 [==============================] - 0s 9ms/step - loss: 0.0021 - accuracy: 1.0000\n",
      "Epoch 457/500\n",
      "1/1 [==============================] - 0s 9ms/step - loss: 0.0021 - accuracy: 1.0000\n",
      "Epoch 458/500\n",
      "1/1 [==============================] - 0s 10ms/step - loss: 0.0021 - accuracy: 1.0000\n",
      "Epoch 459/500\n",
      "1/1 [==============================] - 0s 9ms/step - loss: 0.0021 - accuracy: 1.0000\n",
      "Epoch 460/500\n",
      "1/1 [==============================] - 0s 9ms/step - loss: 0.0020 - accuracy: 1.0000\n",
      "Epoch 461/500\n",
      "1/1 [==============================] - 0s 8ms/step - loss: 0.0020 - accuracy: 1.0000\n",
      "Epoch 462/500\n",
      "1/1 [==============================] - 0s 11ms/step - loss: 0.0020 - accuracy: 1.0000\n",
      "Epoch 463/500\n",
      "1/1 [==============================] - 0s 9ms/step - loss: 0.0020 - accuracy: 1.0000\n",
      "Epoch 464/500\n",
      "1/1 [==============================] - 0s 9ms/step - loss: 0.0020 - accuracy: 1.0000\n",
      "Epoch 465/500\n",
      "1/1 [==============================] - 0s 10ms/step - loss: 0.0020 - accuracy: 1.0000\n",
      "Epoch 466/500\n",
      "1/1 [==============================] - ETA: 0s - loss: 0.0020 - accuracy: 1.00 - 0s 11ms/step - loss: 0.0020 - accuracy: 1.0000\n",
      "Epoch 467/500\n",
      "1/1 [==============================] - 0s 8ms/step - loss: 0.0020 - accuracy: 1.0000\n",
      "Epoch 468/500\n",
      "1/1 [==============================] - 0s 12ms/step - loss: 0.0020 - accuracy: 1.0000\n",
      "Epoch 469/500\n",
      "1/1 [==============================] - ETA: 0s - loss: 0.0020 - accuracy: 1.00 - 0s 8ms/step - loss: 0.0020 - accuracy: 1.0000\n",
      "Epoch 470/500\n",
      "1/1 [==============================] - 0s 9ms/step - loss: 0.0019 - accuracy: 1.0000\n",
      "Epoch 471/500\n",
      "1/1 [==============================] - 0s 12ms/step - loss: 0.0019 - accuracy: 1.0000\n",
      "Epoch 472/500\n",
      "1/1 [==============================] - 0s 12ms/step - loss: 0.0019 - accuracy: 1.0000\n",
      "Epoch 473/500\n",
      "1/1 [==============================] - 0s 12ms/step - loss: 0.0019 - accuracy: 1.0000\n",
      "Epoch 474/500\n",
      "1/1 [==============================] - 0s 6ms/step - loss: 0.0019 - accuracy: 1.0000\n",
      "Epoch 475/500\n",
      "1/1 [==============================] - 0s 10ms/step - loss: 0.0019 - accuracy: 1.0000\n",
      "Epoch 476/500\n",
      "1/1 [==============================] - 0s 9ms/step - loss: 0.0019 - accuracy: 1.0000\n",
      "Epoch 477/500\n",
      "1/1 [==============================] - 0s 9ms/step - loss: 0.0019 - accuracy: 1.0000\n",
      "Epoch 478/500\n",
      "1/1 [==============================] - 0s 10ms/step - loss: 0.0019 - accuracy: 1.0000\n",
      "Epoch 479/500\n",
      "1/1 [==============================] - 0s 10ms/step - loss: 0.0019 - accuracy: 1.0000\n",
      "Epoch 480/500\n",
      "1/1 [==============================] - 0s 12ms/step - loss: 0.0018 - accuracy: 1.0000\n",
      "Epoch 481/500\n",
      "1/1 [==============================] - 0s 11ms/step - loss: 0.0018 - accuracy: 1.0000\n",
      "Epoch 482/500\n",
      "1/1 [==============================] - 0s 7ms/step - loss: 0.0018 - accuracy: 1.0000\n",
      "Epoch 483/500\n",
      "1/1 [==============================] - 0s 12ms/step - loss: 0.0018 - accuracy: 1.0000\n",
      "Epoch 484/500\n",
      "1/1 [==============================] - 0s 10ms/step - loss: 0.0018 - accuracy: 1.0000\n",
      "Epoch 485/500\n",
      "1/1 [==============================] - 0s 8ms/step - loss: 0.0018 - accuracy: 1.0000\n",
      "Epoch 486/500\n",
      "1/1 [==============================] - 0s 12ms/step - loss: 0.0018 - accuracy: 1.0000\n",
      "Epoch 487/500\n",
      "1/1 [==============================] - 0s 7ms/step - loss: 0.0018 - accuracy: 1.0000\n",
      "Epoch 488/500\n",
      "1/1 [==============================] - 0s 10ms/step - loss: 0.0018 - accuracy: 1.0000\n",
      "Epoch 489/500\n",
      "1/1 [==============================] - 0s 10ms/step - loss: 0.0018 - accuracy: 1.0000\n",
      "Epoch 490/500\n",
      "1/1 [==============================] - 0s 12ms/step - loss: 0.0018 - accuracy: 1.0000\n",
      "Epoch 491/500\n",
      "1/1 [==============================] - 0s 14ms/step - loss: 0.0018 - accuracy: 1.0000\n",
      "Epoch 492/500\n",
      "1/1 [==============================] - 0s 10ms/step - loss: 0.0018 - accuracy: 1.0000\n",
      "Epoch 493/500\n",
      "1/1 [==============================] - 0s 8ms/step - loss: 0.0017 - accuracy: 1.0000\n",
      "Epoch 494/500\n",
      "1/1 [==============================] - 0s 14ms/step - loss: 0.0017 - accuracy: 1.0000\n",
      "Epoch 495/500\n",
      "1/1 [==============================] - 0s 11ms/step - loss: 0.0017 - accuracy: 1.0000\n",
      "Epoch 496/500\n",
      "1/1 [==============================] - 0s 9ms/step - loss: 0.0017 - accuracy: 1.0000\n",
      "Epoch 497/500\n",
      "1/1 [==============================] - 0s 10ms/step - loss: 0.0017 - accuracy: 1.0000\n",
      "Epoch 498/500\n",
      "1/1 [==============================] - 0s 14ms/step - loss: 0.0017 - accuracy: 1.0000\n",
      "Epoch 499/500\n",
      "1/1 [==============================] - 0s 11ms/step - loss: 0.0017 - accuracy: 1.0000\n",
      "Epoch 500/500\n",
      "1/1 [==============================] - 0s 7ms/step - loss: 0.0017 - accuracy: 1.0000\n"
     ]
    }
   ],
   "source": [
    "# Train the model\n",
    "history = model.fit(X_train, y_train, epochs=500, batch_size=X_train.shape[0])"
   ]
  },
  {
   "cell_type": "code",
   "execution_count": 117,
   "metadata": {},
   "outputs": [
    {
     "data": {
      "image/png": "[encoded data removed]",
      "text/plain": [
       "<Figure size 576x432 with 1 Axes>"
      ]
     },
     "metadata": {
      "needs_background": "light"
     },
     "output_type": "display_data"
    }
   ],
   "source": [
    "plt.figure(figsize=(8,6))\n",
    "plt.plot(history.history['accuracy'])\n",
    "plt.plot(history.history['loss'])\n",
    "plt.xlim(0,300)\n",
    "plt.xlabel(\"No. of Epochs\", fontsize=14)\n",
    "plt.ylabel(\"Accuracy & Loss\", fontsize=14)\n",
    "plt.grid()\n",
    "plt.show()"
   ]
  },
  {
   "cell_type": "code",
   "execution_count": null,
   "metadata": {},
   "outputs": [],
   "source": []
  }
 ],
 "metadata": {
  "kernelspec": {
   "display_name": "Python 3",
   "language": "python",
   "name": "python3"
  },
  "language_info": {
   "codemirror_mode": {
    "name": "ipython",
    "version": 3
   },
   "file_extension": ".py",
   "mimetype": "text/x-python",
   "name": "python",
   "nbconvert_exporter": "python",
   "pygments_lexer": "ipython3",
   "version": "3.7.3"
  }
 },
 "nbformat": 4,
 "nbformat_minor": 2
}
